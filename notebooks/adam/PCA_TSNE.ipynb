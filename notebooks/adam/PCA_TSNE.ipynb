{
 "cells": [
  {
   "cell_type": "code",
   "execution_count": null,
   "id": "e6a70d0a",
   "metadata": {},
   "outputs": [],
   "source": [
    "from sklearn.metrics import silhouette_score\n",
    "from sklearn.decomposition import PCA\n",
    "\n",
    "from time import time\n",
    "from matplotlib.ticker import NullFormatter\n",
    "from sklearn import datasets, manifold\n",
    "\n",
    "import numpy as np\n",
    "import matplotlib.pyplot as plt"
   ]
  },
  {
   "cell_type": "code",
   "execution_count": null,
   "id": "c28a1f5c",
   "metadata": {},
   "outputs": [],
   "source": [
    "#print('Calculating silhouette score: ', end=\"\")\n",
    "#silhouette_avg = silhouette_score(latent_predict_features, cluster_predictions)\n",
    "#print(silhouette_avg)#"
   ]
  },
  {
   "cell_type": "code",
   "execution_count": null,
   "id": "43edd192",
   "metadata": {},
   "outputs": [],
   "source": [
    "   # Visualize the clusters using PCA\n",
    "#pca = PCA(n_components=2)\n",
    "#latent_2d = pca.fit_transform(latent_predict_features)\n",
    "#plt.scatter(latent_2d[:, 0], latent_2d[:, 1], c=cluster_predictions, cmap='viridis')\n",
    "#plt.colorbar()\n",
    "#plt.title(\"Cluster Visualization (PCA)\")\n",
    "#plt.show()\n",
    "#"
   ]
  },
  {
   "cell_type": "code",
   "execution_count": null,
   "id": "fe6a1708",
   "metadata": {},
   "outputs": [],
   "source": [
    "pca = PCA(n_components=3)\n",
    "latent_3d = pca.fit_transform(latent_predict_features)\n",
    "\n",
    "fig = plt.figure()\n",
    "ax = fig.add_subplot(projection='3d')\n",
    "\n",
    "plt.scatter(latent_3d[:, 0], latent_3d[:, 1], latent_3d[:, 2], c=cluster_predictions, cmap='viridis')\n",
    "plt.colorbar()\n",
    "plt.title(\"Cluster Visualization (PCA)\")\n",
    "plt.show()\n"
   ]
  },
  {
   "cell_type": "code",
   "execution_count": null,
   "id": "edcacb8b",
   "metadata": {},
   "outputs": [],
   "source": [
    "n_components = 2\n",
    "perplexity = 50\n",
    "\n",
    "t0 = time()\n",
    "tsne = manifold.TSNE(\n",
    "    n_components=n_components,\n",
    "    init=\"random\",\n",
    "    random_state=0,\n",
    "    perplexity=perplexity,\n",
    "    max_iter=300,\n",
    ")\n",
    "Y = tsne.fit_transform(latent_predict_features)\n",
    "t1 = time()\n",
    "print(\"circles, perplexity=%d in %.2g sec\" % (perplexity, t1 - t0))\n"
   ]
  },
  {
   "cell_type": "code",
   "execution_count": null,
   "id": "d8d13b67",
   "metadata": {},
   "outputs": [],
   "source": [
    "fig, ax = plt.subplots(figsize=(6, 6))\n",
    "ax.set_title(\"t-SNE: Perplexity=%d\" % perplexity)\n",
    "ax.scatter(Y[:, 0], Y[:, 1], c=cluster_predictions, cmap='viridis')\n",
    "#ax.scatter(Y[green, 0], Y[green, 1], c=\"g\")\n",
    "ax.xaxis.set_major_formatter(NullFormatter())\n",
    "ax.yaxis.set_major_formatter(NullFormatter())\n",
    "ax.axis(\"tight\")"
   ]
  },
  {
   "cell_type": "code",
   "execution_count": null,
   "id": "eba5a83b",
   "metadata": {},
   "outputs": [],
   "source": [
    "fig, ax = plt.subplots(figsize=(6, 6))\n",
    "ax.set_title(\"t-SNE: Perplexity=%d\" % perplexity)\n",
    "ax.scatter(Y[:, 0], Y[:, 1], c=cluster_predictions, cmap='viridis')\n",
    "#ax.scatter(Y[green, 0], Y[green, 1], c=\"g\")\n",
    "ax.xaxis.set_major_formatter(NullFormatter())\n",
    "ax.yaxis.set_major_formatter(NullFormatter())\n",
    "ax.axis(\"tight\")"
   ]
  },
  {
   "cell_type": "code",
   "execution_count": null,
   "id": "687833b5",
   "metadata": {},
   "outputs": [],
   "source": [
    "n_components = 3 # Dimensions for t-SNE\n",
    "perplexity = 50\n",
    "\n",
    "t0 = time()\n",
    "tsne = manifold.TSNE(\n",
    "    n_components=n_components,\n",
    "    init=\"random\",\n",
    "    random_state=0,\n",
    "    perplexity=perplexity,\n",
    "    max_iter=300,\n",
    ")\n",
    "Y3D = tsne.fit_transform(latent_predict_features)\n",
    "t1 = time()\n",
    "print(\"circles, perplexity=%d in %.2g sec\" % (perplexity, t1 - t0))"
   ]
  },
  {
   "cell_type": "code",
   "execution_count": null,
   "id": "3da2e244",
   "metadata": {},
   "outputs": [],
   "source": [
    "fig = plt.figure()\n",
    "ax = fig.add_subplot(projection='3d')\n",
    "ax.set_title(\"t-SNE: Perplexity=%d\" % perplexity)\n",
    "ax.scatter(Y3D[:, 0], Y3D[:, 1], Y3D[:, 2], c=cluster_predictions, cmap='viridis')\n",
    "#ax.scatter(Y[green, 0], Y[green, 1], c=\"g\")\n",
    "ax.xaxis.set_major_formatter(NullFormatter())\n",
    "ax.yaxis.set_major_formatter(NullFormatter())\n",
    "ax.axis(\"tight\")"
   ]
  }
 ],
 "metadata": {
  "language_info": {
   "name": "python"
  }
 },
 "nbformat": 4,
 "nbformat_minor": 5
}
