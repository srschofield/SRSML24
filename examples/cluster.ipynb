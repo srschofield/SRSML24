{
 "cells": [
  {
   "cell_type": "markdown",
   "metadata": {},
   "source": [
    "# CNN autoencoder and Clustering from MTRX data\n",
    "\n",
    "Use this notebook to load Scienta Omicron Matrix format SPM data and create standardised images for machine learning training and analysis. The code can generate both JPG image data, useful for manually checking the data, and windowed numpy data that can be loaded into ML models. \n",
    "\n",
    "The notebook then creates an autoencoder for training on a large dataset, followed by KMEANS clustering. \n",
    "\n",
    "**Author**: Steven R. Schofield  \n",
    "**Created**: November, 2024"
   ]
  },
  {
   "cell_type": "code",
   "execution_count": 1,
   "metadata": {},
   "outputs": [
    {
     "name": "stdout",
     "output_type": "stream",
     "text": [
      "module_path = /Users/steven/academic-iCloud/Python/modules\n",
      "data_path = /Users/steven/Python-data\n"
     ]
    }
   ],
   "source": [
    "# Define path where to find the module. This allows for a different path depending on where the code is running (my mac or the cluster)\n",
    "import os\n",
    "\n",
    "module_path_list = [\n",
    "    '/Users/steven/academic-iCloud/Python/modules',\n",
    "    '/hpc/srs/Python/modules'\n",
    "] \n",
    "\n",
    "data_path_list = [\n",
    "    '/Users/steven/Python-data'\n",
    "]\n",
    "\n",
    "module_path = next((p for p in module_path_list if os.path.exists(p)), None)\n",
    "if not module_path:\n",
    "    exit(\"No valid module paths.\")\n",
    "else:\n",
    "    print('module_path = {}'.format(module_path))\n",
    "\n",
    "data_path = next((p for p in data_path_list if os.path.exists(p)), None)\n",
    "if not module_path:\n",
    "    exit(\"No valid data paths.\")\n",
    "else:\n",
    "    print('data_path = {}'.format(data_path))\n",
    "\n",
    "# adjust tensorflow output level\n",
    "os.environ['TF_CPP_MIN_LOG_LEVEL'] = '3' # 0 default all messages, 1 warnings and errors, 2, errors, 3 fatal errors only"
   ]
  },
  {
   "cell_type": "code",
   "execution_count": 2,
   "metadata": {},
   "outputs": [
    {
     "name": "stdout",
     "output_type": "stream",
     "text": [
      "\n",
      "Python version: 3.8.18 (default, Sep 11 2023, 08:17:16) \n",
      "[Clang 14.0.6 ]\n",
      "TensorFlow version: 2.13.0\n",
      "TensorFlow is built with CUDA: False\n",
      "TensorFlow is built with ROCm: False\n",
      "\n",
      "System: Darwin 24.1.0 (arm64)\n",
      "Platform: macOS-15.1.1-arm64-arm-64bit\n",
      "Processor: arm\n",
      "\n",
      "Number of GPUs available to TensorFlow: 1\n",
      "GPU Device: PhysicalDevice(name='/physical_device:GPU:0', device_type='GPU')\n",
      "\n",
      ">>> Running with GPU available <<<  (macOS-15.1.1-arm64-arm-64bit)\n",
      "\n",
      "Current time 2024-12-01 13:16:07\n"
     ]
    }
   ],
   "source": [
    "# # Ensure modules are reloaded \n",
    "%load_ext autoreload\n",
    "%autoreload 2\n",
    "\n",
    "# Import standard modules\n",
    "import os, sys\n",
    "import numpy as np\n",
    "\n",
    "import platform\n",
    "\n",
    "from datetime import datetime\n",
    "\n",
    "# Add custom module path to list\n",
    "sys.path.append(module_path)\n",
    "\n",
    "# Import custom module\n",
    "import SRSML24.data_prep as dp\n",
    "import SRSML24.model as m\n",
    "\n",
    "import tensorflow as tf\n",
    "#from tensorflow.keras.optimizers.legacy import Adam \n",
    "from tensorflow.keras.optimizers import Adam\n",
    "\n",
    "import matplotlib.pyplot as plt\n",
    "\n",
    "#import platform \n",
    "\n",
    "m.print_system_info()\n",
    "\n",
    "start_time = dp.current_datetime()"
   ]
  },
  {
   "cell_type": "code",
   "execution_count": 3,
   "metadata": {},
   "outputs": [],
   "source": [
    "# Parameters for windows creation\n",
    "job_name = 'full_test_1_dec'\n",
    "job_data_path = dp.create_new_data_path(data_path, job_name, include_date=False)\n",
    "mtrx_train_path = os.path.join(data_path, 'mtrx/train')\n",
    "mtrx_test_path = os.path.join(data_path, 'mtrx/test')\n",
    "mtrx_predict_path = os.path.join(data_path, 'mtrx/predict')\n",
    "flatten_method = 'poly_xy'\n",
    "pixel_density = 15.0    # Convert all images to a constant pixel density\n",
    "pixel_ratio = 0.7       # If an image has less than this % in the slow scan direction it is discarded\n",
    "data_scaling = 3.e9     # Scale the z-height of the data\n",
    "window_size = 32        # Window size for training/validation\n",
    "window_pitch = 32       # Window pitch for training/validation\n",
    "together = True        # Set this True to save image windows for a mtrx image as a single file rather than separate files.\n",
    "collate = False         # Set this True to remove all subfolder directories and save all data in root data path\n",
    "\n",
    "# Parameters for training\n",
    "model_name = 'unet_' + job_name\n",
    "batch_size = 128\n",
    "buffer_size = 12800 # shuffling\n",
    "learning_rate = 1e-4\n",
    "epochs = 10\n",
    "\n",
    "epochs = 10\n",
    "\n",
    "# Parameters for clustering\n",
    "cluster_model_name = model_name + '_kmeans'\n",
    "num_clusters = 25\n",
    "cluster_batch_size = 5120 # This is the number of latent features in a batch for clustering. \n",
    "                          # Does not have to be the same as for training and probably should \n",
    "                          # be larger. \n",
    "cluster_buffer_size = cluster_batch_size * 5 # shuffling buffer\n",
    "\n",
    "predict_window_pitch = 4               # Window pitch for prediction\n",
    "\n",
    "# DATA LIMITS FOR TESTING THE CODE\n",
    "mtrx_train_data_limit = None #500         # Number of MTRX files to process (training)\n",
    "mtrx_test_data_limit = None #100         # Number of MTRX files to process (validation)\n",
    "\n",
    "train_data_limit = None #2000*batch_size\n",
    "predict_data_limit = None"
   ]
  },
  {
   "cell_type": "code",
   "execution_count": 4,
   "metadata": {},
   "outputs": [
    {
     "name": "stdout",
     "output_type": "stream",
     "text": [
      "No target folders found to delete.\n"
     ]
    }
   ],
   "source": [
    "# REMOVE ALL DATA FOLDERS EXCEPT MTRX \n",
    "dp.delete_data_folders(job_data_path, override=True)"
   ]
  },
  {
   "cell_type": "code",
   "execution_count": 5,
   "metadata": {},
   "outputs": [
    {
     "name": "stdout",
     "output_type": "stream",
     "text": [
      "Found 2063 files with extension 'Z_mtrx' in directory:\n",
      "/Users/steven/Python-data/mtrx/train\n",
      "There are 2063 files to process\n",
      "....t...t....t....................t...............tt.........................t............tt..tttt. 100\n",
      ".........t......ttt..t..tt................t....tt.t..t..tt..............t...t............t..t....t. 200\n",
      "\btt..t..tttt...tt.tttt.t.t.tttttttt.t.tt.tt.t..t.tt..........t........t............tt............t... 300\n",
      "t..................t...............tt..................t........t......ttt.ttt...t....t..t.t....t.t 400\n",
      "........tttttttttttttt...tttttttttttt..................tttttt....ttt..tt.......t...t.t............. 500\n",
      "...t.t.t..................t....tttttttttt.tt......t.t..ttt.t.t...t.t.t.t.t..t..t.t.t..t..t.t.t.t... 600\n",
      "tt..t..t.tt.t..t.t.t.t.t.t..t..t....tt...t..t......................t..t.t.......................... 700\n",
      ".....tt.t..ttttt.........................t..t.t.......t........t.t.tttt...tt..t.tt.t..t..t........t 800\n",
      ".....tt.tttt..ttttt.t...t..tt.....t..t..t...t..t..t.t...t.t..t...t..t.....t...t..t..t.t..t..tttt.t. 900\n",
      "\btt...t.t....t..t.t...tttt.t.t.t.t.t.tt..t..t..t.tt.ttt..t.t.t...t....ttttttt..ttt.t..t.t.t.t.t..t.t. 1000\n",
      "\bt.t...tttttttt..t...t.tt..t.t.t..t.t.t.t.t..t...tt..t.t.t..ttt..tttt.tt..ttttt..tt.t.tttt.tt.t..t.t. 1100\n",
      "tttt.t..t..t...t.t.t..t..tt..tttt.t.tt.t.tttt.ttt..............tt.t.tt.tt..t.t.......t.t..t......tt 1200\n",
      "\bttttt.......t.........t.............t..........t.........ttt...tt.t.t.tt.tt..t.tt.tttt..tt..t.t..ttt 1300\n",
      "\btttt.t.t..t.....t.....ttttttttttttttttttttttttttt.t..t.t..ttttt.t.t.ttttttt...t..ttttttt....tt..t..t 1400\n",
      "\btttt......ttttttt.ttt.tt.t.t..ttt.tt....t..t...........................tt..........ttttt.ttttttttttt 1500\n",
      "\bttttttttttttttt.t.ttttt.ttt.t..tttttt.ttttttttt.t..t.t.t...tt.......t.t..tt.ttttt.t....ttt...t.tt..t 1600\n",
      "t.t..ttt..t...tt...t....tt....t..t.t..ttttt.tttt....t......ttttttttttttttttttttttt.ttttttt...tttttt 1700\n",
      "\bttttttttttttttt........t..ttttt.....t....ttt.......ttt......ttt......tttttttttttttt.ttttttt.t.tt.... 1800\n",
      "t.....t........t.....t...t.....tt..........tttttttttttt.ttttttt...t.tttt..tttt..t.................. 1900\n",
      ".......................tttt...t.ttt..t.ttt.ttt..ttttt....t..t.t....tt....t......................... 2000\n",
      "........ttt.t.tt.......tttttttt....tttt.tt..t..t.tt.t........t.\n",
      "********************\n",
      "Conversion complete.\n",
      "********************\n",
      "\n",
      "Found 803 files with extension 'Z_mtrx' in directory:\n",
      "/Users/steven/Python-data/mtrx/test\n",
      "There are 803 files to process\n",
      "t.......t.t...t........................................ttt..........tt...tttttttt.................t 100\n",
      "..t...........t...t..t..t..t...t...t..tt..........t.........t.....tt..t............................ 200\n",
      "..tttt................................t......ttttt.tttttttt.ttt.t.......t..ttt..................... 300\n",
      "............t....tttt.t..t..tt...................tttttt...tt.ttttttttttttttt...t..............t.... 400\n",
      "t...tt.tttttt...ttttt.t......t..t......t......t.tt.........t...t...tt.tt.t.t..ttt....tt..tt..ttt..t 500\n",
      "\bt.tt...................t..........................................................................t. 600\n",
      ".t..t.t...t..t.....t....t....t..t............................tt.t..t..t..ttt....t................tt 700\n",
      "...ttt..tttt.........t.................t....ttt.ttt.ttt....tt..t..t.....t.......t.......t.t........ 800\n",
      "...\n",
      "********************\n",
      "Conversion complete.\n",
      "********************\n",
      "\n"
     ]
    }
   ],
   "source": [
    "# Training data\n",
    "mtrx_train_file_list, _ = dp.list_files_by_extension(mtrx_train_path,'Z_mtrx',verbose=False)\n",
    "\n",
    "dp.process_mtrx_files(\n",
    "    mtrx_train_file_list[0:mtrx_train_data_limit],\n",
    "    job_data_path, # save data path\n",
    "    flatten_method = flatten_method, pixel_density = pixel_density, pixel_ratio = pixel_ratio,\n",
    "    data_scaling = data_scaling, window_size = window_size, window_pitch = window_pitch,\n",
    "    save_windows = True,\n",
    "    save_jpg = False,\n",
    "    together = together,\n",
    "    collate = collate,\n",
    "    verbose = False\n",
    "    )\n",
    "\n",
    "# Test data\n",
    "mtrx_test_file_list, _ = dp.list_files_by_extension(mtrx_test_path,'Z_mtrx',verbose=False)\n",
    "\n",
    "dp.process_mtrx_files(\n",
    "    mtrx_test_file_list[0:mtrx_test_data_limit],\n",
    "    job_data_path, # save data path\n",
    "    flatten_method = flatten_method, pixel_density = pixel_density, pixel_ratio = pixel_ratio,\n",
    "    data_scaling = data_scaling, window_size = window_size, window_pitch = window_pitch,\n",
    "    save_windows = True,\n",
    "    save_jpg = False,\n",
    "    together = together,\n",
    "    collate = collate,\n",
    "    verbose = False\n",
    "    )"
   ]
  },
  {
   "cell_type": "markdown",
   "metadata": {},
   "source": [
    "# Set up tensorflow data pipeline"
   ]
  },
  {
   "cell_type": "code",
   "execution_count": 6,
   "metadata": {},
   "outputs": [
    {
     "name": "stdout",
     "output_type": "stream",
     "text": [
      "Found 2412 files with extension 'npy' in directory:\n",
      "/Users/steven/Python-data/full_test_1_dec/windows/train\n",
      "Data pipeline created with 2412 files, batch size: 128, window size: 32\n",
      "Sample batch shape: (128, 32, 32, 1)\n",
      "\n"
     ]
    }
   ],
   "source": [
    "# Training data - tensorflow data pipeline for autoencoder\n",
    "windows_train_path = os.path.join(job_data_path, 'windows/train')\n",
    "train_files, num_train = dp.list_files_by_extension(windows_train_path, 'npy')\n",
    "train_files = train_files[:train_data_limit]\n",
    "# Create dataset with prefetching\n",
    "#train_dataset = m.create_tf_dataset(train_files, batch_size=batch_size, buffer_size=buffer_size, is_autoencoder=True, shuffle=True)\n",
    "train_dataset = m.create_tf_dataset_batched(\n",
    "    train_files, \n",
    "    batch_size=batch_size, \n",
    "    buffer_size=buffer_size, \n",
    "    window_size=window_size,\n",
    "    is_autoencoder=True, \n",
    "    shuffle=True)"
   ]
  },
  {
   "cell_type": "code",
   "execution_count": 7,
   "metadata": {},
   "outputs": [
    {
     "name": "stdout",
     "output_type": "stream",
     "text": [
      "Found 497 files with extension 'npy' in directory:\n",
      "/Users/steven/Python-data/full_test_1_dec/windows/test\n",
      "Data pipeline created with 497 files, batch size: 128, window size: 32\n",
      "Sample batch shape: (128, 32, 32, 1)\n",
      "\n"
     ]
    }
   ],
   "source": [
    "# Validation data - tensorflow data pipeline for autoencoder\n",
    "windows_test_path = os.path.join(job_data_path, 'windows/test')\n",
    "test_files, num_test = dp.list_files_by_extension(windows_test_path, 'npy')\n",
    "test_files = test_files[:train_data_limit]\n",
    "\n",
    "# Create dataset with prefetching\n",
    "test_dataset = m.create_tf_dataset_batched(\n",
    "    test_files, \n",
    "    batch_size=batch_size, \n",
    "    buffer_size=buffer_size, \n",
    "    window_size=window_size,\n",
    "    is_autoencoder=True, \n",
    "    shuffle=True)"
   ]
  },
  {
   "cell_type": "markdown",
   "metadata": {},
   "source": [
    "# Autoencoder build and train"
   ]
  },
  {
   "cell_type": "code",
   "execution_count": 8,
   "metadata": {},
   "outputs": [
    {
     "name": "stdout",
     "output_type": "stream",
     "text": [
      "Model: \"unet_full_test_1_dec\"\n",
      "__________________________________________________________________________________________________\n",
      " Layer (type)                Output Shape                 Param #   Connected to                  \n",
      "==================================================================================================\n",
      " Input_windows (InputLayer)  [(None, 32, 32, 1)]          0         []                            \n",
      "                                                                                                  \n",
      " Convolutional_1 (Conv2D)    (None, 32, 32, 32)           320       ['Input_windows[0][0]']       \n",
      "                                                                                                  \n",
      " Dropout_1 (Dropout)         (None, 32, 32, 32)           0         ['Convolutional_1[0][0]']     \n",
      "                                                                                                  \n",
      " MaxPooling_1 (MaxPooling2D  (None, 16, 16, 32)           0         ['Dropout_1[0][0]']           \n",
      " )                                                                                                \n",
      "                                                                                                  \n",
      " Convolutional_2 (Conv2D)    (None, 16, 16, 64)           18496     ['MaxPooling_1[0][0]']        \n",
      "                                                                                                  \n",
      " Dropout_2 (Dropout)         (None, 16, 16, 64)           0         ['Convolutional_2[0][0]']     \n",
      "                                                                                                  \n",
      " MaxPooling_2 (MaxPooling2D  (None, 8, 8, 64)             0         ['Dropout_2[0][0]']           \n",
      " )                                                                                                \n",
      "                                                                                                  \n",
      " Convolutional_3 (Conv2D)    (None, 8, 8, 128)            73856     ['MaxPooling_2[0][0]']        \n",
      "                                                                                                  \n",
      " Dropout_3 (Dropout)         (None, 8, 8, 128)            0         ['Convolutional_3[0][0]']     \n",
      "                                                                                                  \n",
      " MaxPooling_3 (MaxPooling2D  (None, 4, 4, 128)            0         ['Dropout_3[0][0]']           \n",
      " )                                                                                                \n",
      "                                                                                                  \n",
      " Bottleneck (Conv2D)         (None, 4, 4, 256)            295168    ['MaxPooling_3[0][0]']        \n",
      "                                                                                                  \n",
      " UpSampling_1 (UpSampling2D  (None, 8, 8, 256)            0         ['Bottleneck[0][0]']          \n",
      " )                                                                                                \n",
      "                                                                                                  \n",
      " UpConv_1 (Conv2D)           (None, 8, 8, 128)            295040    ['UpSampling_1[0][0]']        \n",
      "                                                                                                  \n",
      " Skip_Connection_1 (Concate  (None, 8, 8, 256)            0         ['UpConv_1[0][0]',            \n",
      " nate)                                                               'Convolutional_3[0][0]']     \n",
      "                                                                                                  \n",
      " Convolutional_4 (Conv2D)    (None, 8, 8, 128)            295040    ['Skip_Connection_1[0][0]']   \n",
      "                                                                                                  \n",
      " UpSampling_2 (UpSampling2D  (None, 16, 16, 128)          0         ['Convolutional_4[0][0]']     \n",
      " )                                                                                                \n",
      "                                                                                                  \n",
      " UpConv_2 (Conv2D)           (None, 16, 16, 64)           73792     ['UpSampling_2[0][0]']        \n",
      "                                                                                                  \n",
      " Skip_Connection_2 (Concate  (None, 16, 16, 128)          0         ['UpConv_2[0][0]',            \n",
      " nate)                                                               'Convolutional_2[0][0]']     \n",
      "                                                                                                  \n",
      " Convolutional_5 (Conv2D)    (None, 16, 16, 64)           73792     ['Skip_Connection_2[0][0]']   \n",
      "                                                                                                  \n",
      " UpSampling_3 (UpSampling2D  (None, 32, 32, 64)           0         ['Convolutional_5[0][0]']     \n",
      " )                                                                                                \n",
      "                                                                                                  \n",
      " UpConv_3 (Conv2D)           (None, 32, 32, 32)           18464     ['UpSampling_3[0][0]']        \n",
      "                                                                                                  \n",
      " Skip_Connection_3 (Concate  (None, 32, 32, 64)           0         ['UpConv_3[0][0]',            \n",
      " nate)                                                               'Convolutional_1[0][0]']     \n",
      "                                                                                                  \n",
      " Convolutional_6 (Conv2D)    (None, 32, 32, 32)           18464     ['Skip_Connection_3[0][0]']   \n",
      "                                                                                                  \n",
      " Output (Conv2D)             (None, 32, 32, 1)            33        ['Convolutional_6[0][0]']     \n",
      "                                                                                                  \n",
      "==================================================================================================\n",
      "Total params: 1162465 (4.43 MB)\n",
      "Trainable params: 1162465 (4.43 MB)\n",
      "Non-trainable params: 0 (0.00 Byte)\n",
      "__________________________________________________________________________________________________\n",
      "Running on Mac with Apple Silicon. Using legacy RMSprop optimizer.\n"
     ]
    }
   ],
   "source": [
    "# Build and compile the UNET model\n",
    "autoencoder_model = m.build_autoencoder(window_size=window_size,model_name=model_name)\n",
    "autoencoder_model.summary()\n",
    "\n",
    "# Check if running on Apple Silicon\n",
    "is_mac_silicon = platform.system() == \"Darwin\" and platform.processor() == \"arm\"\n",
    "\n",
    "if is_mac_silicon:\n",
    "    print(\"Running on Mac with Apple Silicon. Using legacy RMSprop optimizer.\")\n",
    "    autoencoder_model.compile(\n",
    "        optimizer=tf.keras.optimizers.legacy.RMSprop(learning_rate=learning_rate),\n",
    "        loss='mean_squared_error',\n",
    "        metrics=['mse', 'mae']\n",
    "    )\n",
    "else:\n",
    "    print(\"Not running on Mac with Apple Silicon. Using new RMSprop optimizer.\")\n",
    "    autoencoder_model.compile(\n",
    "        optimizer=tf.keras.optimizers.RMSprop(learning_rate=learning_rate),\n",
    "        loss='mean_squared_error',\n",
    "        metrics=['mse', 'mae']\n",
    "    )\n"
   ]
  },
  {
   "cell_type": "code",
   "execution_count": 9,
   "metadata": {},
   "outputs": [
    {
     "name": "stdout",
     "output_type": "stream",
     "text": [
      "Epoch 1/10\n",
      "4545/4545 [==============================] - 284s 62ms/step - loss: 0.0020 - mse: 0.0020 - mae: 0.0261 - val_loss: 6.1421e-04 - val_mse: 6.1421e-04 - val_mae: 0.0207\n",
      "Epoch 2/10\n",
      "4545/4545 [==============================] - 286s 63ms/step - loss: 1.1591e-04 - mse: 1.1591e-04 - mae: 0.0090 - val_loss: 0.0013 - val_mse: 0.0013 - val_mae: 0.0317\n",
      "Epoch 3/10\n",
      "4545/4545 [==============================] - 277s 61ms/step - loss: 6.0391e-05 - mse: 6.0391e-05 - mae: 0.0065 - val_loss: 4.4153e-04 - val_mse: 4.4153e-04 - val_mae: 0.0160\n",
      "Epoch 4/10\n",
      "4545/4545 [==============================] - 273s 60ms/step - loss: 4.0702e-05 - mse: 4.0702e-05 - mae: 0.0054 - val_loss: 7.4774e-04 - val_mse: 7.4774e-04 - val_mae: 0.0227\n",
      "Epoch 5/10\n",
      "4545/4545 [==============================] - 271s 60ms/step - loss: 2.9371e-05 - mse: 2.9371e-05 - mae: 0.0045 - val_loss: 2.2253e-04 - val_mse: 2.2253e-04 - val_mae: 0.0102\n",
      "Epoch 6/10\n",
      "4545/4545 [==============================] - 277s 61ms/step - loss: 2.1810e-05 - mse: 2.1810e-05 - mae: 0.0038 - val_loss: 2.6949e-04 - val_mse: 2.6949e-04 - val_mae: 0.0123\n",
      "Epoch 7/10\n",
      "4545/4545 [==============================] - 276s 61ms/step - loss: 1.7248e-05 - mse: 1.7248e-05 - mae: 0.0034 - val_loss: 8.1573e-05 - val_mse: 8.1573e-05 - val_mae: 0.0049\n",
      "Epoch 8/10\n",
      "4545/4545 [==============================] - 351s 77ms/step - loss: 1.4265e-05 - mse: 1.4265e-05 - mae: 0.0030 - val_loss: 1.9479e-04 - val_mse: 1.9479e-04 - val_mae: 0.0096\n",
      "Epoch 9/10\n",
      "4545/4545 [==============================] - 452s 99ms/step - loss: 1.2342e-05 - mse: 1.2342e-05 - mae: 0.0028 - val_loss: 6.3702e-05 - val_mse: 6.3702e-05 - val_mae: 0.0048\n",
      "Epoch 10/10\n",
      "4545/4545 [==============================] - 446s 98ms/step - loss: 1.0925e-05 - mse: 1.0925e-05 - mae: 0.0027 - val_loss: 1.0642e-04 - val_mse: 1.0642e-04 - val_mae: 0.0058\n",
      "Model saved at: /Users/steven/Python-data/full_test_1_dec/model/unet_full_test_1_dec.keras\n",
      "Current time 2024-12-01 12:44:04\n",
      "Elapsed time: 0 hours, 56 minutes, 1 seconds.\n"
     ]
    }
   ],
   "source": [
    "# Train the model using the tf.data datasets\n",
    "history = autoencoder_model.fit(\n",
    "    train_dataset,\n",
    "    validation_data=test_dataset,\n",
    "    epochs=epochs,\n",
    "    shuffle=True,\n",
    "    verbose=1\n",
    ")\n",
    "\n",
    "# Save the model as soon as training completes\n",
    "model_path = os.path.join(job_data_path,'model')\n",
    "m.save_model(autoencoder_model, model_path, model_name=model_name)\n",
    "\n",
    "end_time = dp.current_datetime()\n",
    "dp.elapsed_time(start_time,end_time)"
   ]
  },
  {
   "cell_type": "code",
   "execution_count": 10,
   "metadata": {},
   "outputs": [
    {
     "name": "stdout",
     "output_type": "stream",
     "text": [
      "Plot saved to /Users/steven/Python-data/full_test_1_dec/model/history.jpg\n"
     ]
    },
    {
     "data": {
      "image/png": "[encoded data removed]",
      "text/plain": [
       "<Figure size 1200x500 with 2 Axes>"
      ]
     },
     "metadata": {},
     "output_type": "display_data"
    }
   ],
   "source": [
    "# Plot training history\n",
    "m.plot_training_history(history, \n",
    "                        loss_name='loss', \n",
    "                        val_loss_name='val_loss', \n",
    "                        metric_names=['mse', 'mae'], \n",
    "                        save_to_disk=True,\n",
    "                        val_metric_names=['val_mse', 'val_mae'],\n",
    "                        output_path=model_path,\n",
    "                        dpi=150)"
   ]
  },
  {
   "cell_type": "markdown",
   "metadata": {},
   "source": [
    "# Extract latent features using autoencoder model\n",
    "Will save the latent features also to disk so this step needs to run only once for a given set of parameters"
   ]
  },
  {
   "cell_type": "code",
   "execution_count": 11,
   "metadata": {},
   "outputs": [
    {
     "name": "stdout",
     "output_type": "stream",
     "text": [
      "No target folders found to delete.\n"
     ]
    }
   ],
   "source": [
    "dp.delete_data_folders(\n",
    "    job_data_path, \n",
    "    subdirectories='latent_features',\n",
    "    override=True)"
   ]
  },
  {
   "cell_type": "code",
   "execution_count": 12,
   "metadata": {},
   "outputs": [
    {
     "name": "stdout",
     "output_type": "stream",
     "text": [
      "Found 2412 files with extension 'npy' in directory:\n",
      "/Users/steven/Python-data/full_test_1_dec/windows/train\n",
      "Data pipeline created with 2412 files, batch size: 5120, window size: 32\n",
      "Sample batch shape: (5120, 32, 32, 1)\n",
      "\n"
     ]
    }
   ],
   "source": [
    "# Training data - tensorflow data pipeline \n",
    "windows_train_path = os.path.join(job_data_path, 'windows/train')\n",
    "train_files, num_train = dp.list_files_by_extension(windows_train_path, 'npy')\n",
    "train_files = train_files[:train_data_limit]\n",
    "\n",
    "train_dataset = m.create_tf_dataset_batched(\n",
    "    train_files, \n",
    "    batch_size=cluster_batch_size, \n",
    "    buffer_size=cluster_buffer_size, \n",
    "    window_size=window_size,\n",
    "    is_autoencoder=True, \n",
    "    shuffle=True)"
   ]
  },
  {
   "cell_type": "code",
   "execution_count": 13,
   "metadata": {},
   "outputs": [
    {
     "name": "stdout",
     "output_type": "stream",
     "text": [
      "Model loaded from: /Users/steven/Python-data/full_test_1_dec/model/unet_full_test_1_dec.keras\n"
     ]
    }
   ],
   "source": [
    "# Load the trained autoencoder model\n",
    "model_path = os.path.join(job_data_path,'model')\n",
    "autoencoder_model = m.load_model(model_path, model_name=model_name)"
   ]
  },
  {
   "cell_type": "code",
   "execution_count": 14,
   "metadata": {},
   "outputs": [
    {
     "name": "stdout",
     "output_type": "stream",
     "text": [
      "....................................................................................................100\n",
      ".............\n",
      "All latent features have been saved to /Users/steven/Python-data/full_test_1_dec/latent_features.\n",
      "Sample batch shape: (5120, 4096)\n"
     ]
    }
   ],
   "source": [
    "# Path to save latent features to disk\n",
    "latent_features_path = os.path.join(job_data_path, 'latent_features')\n",
    "\n",
    "m.extract_latent_features_to_disk_from_prebatched_windows(\n",
    "    autoencoder_model, \n",
    "    train_dataset, \n",
    "    latent_features_path, \n",
    "    features_name='latent_features_train',\n",
    "    return_array=False,\n",
    "    verbose=False)"
   ]
  },
  {
   "cell_type": "markdown",
   "metadata": {},
   "source": [
    "# Create tensorflow dataset pipeline for latent features"
   ]
  },
  {
   "cell_type": "code",
   "execution_count": 4,
   "metadata": {},
   "outputs": [
    {
     "name": "stdout",
     "output_type": "stream",
     "text": [
      "Found 114 files with extension 'npy' in directory:\n",
      "/Users/steven/Python-data/full_test_1_dec/latent_features\n"
     ]
    }
   ],
   "source": [
    "# List and sort latent feature files\n",
    "latent_features_path = os.path.join(job_data_path, 'latent_features')\n",
    "latent_features_files, num_latent_files = dp.list_files_by_extension(latent_features_path, 'npy')"
   ]
  },
  {
   "cell_type": "code",
   "execution_count": 5,
   "metadata": {},
   "outputs": [
    {
     "name": "stdout",
     "output_type": "stream",
     "text": [
      "Data pipeline created with 114 files, batch size: 5120\n",
      "Shuffling enabled with buffer size: 25600\n",
      "Batch shape: (5120, 4096)\n"
     ]
    }
   ],
   "source": [
    "# Load the latent features from disk into a tensor dataset pipeline\n",
    "latent_features_dataset = m.create_latent_features_tf_dataset(\n",
    "    latent_features_files,\n",
    "    batch_size=cluster_batch_size,\n",
    "    shuffle=True, \n",
    "    shuffle_buffer_size=cluster_buffer_size)"
   ]
  },
  {
   "cell_type": "markdown",
   "metadata": {},
   "source": [
    "# Train KMEANS cluster model"
   ]
  },
  {
   "cell_type": "code",
   "execution_count": 12,
   "metadata": {},
   "outputs": [
    {
     "name": "stderr",
     "output_type": "stream",
     "text": [
      "/opt/anaconda3/envs/tf/lib/python3.8/site-packages/sklearn/cluster/_kmeans.py:1930: RuntimeWarning: Explicit initial center position passed: performing only one init in MiniBatchKMeans instead of n_init=50.\n",
      "  super()._check_params_vs_input(X, default_n_init=3)\n"
     ]
    },
    {
     "name": "stdout",
     "output_type": "stream",
     "text": [
      "Batch 1 processed. Inertia: 636.60498046875\n",
      "Batch 2 processed. Inertia: 384.69732666015625\n",
      "Batch 3 processed. Inertia: 446.402099609375\n",
      "Batch 4 processed. Inertia: 434.2603454589844\n",
      "Batch 5 processed. Inertia: 377.7320861816406\n",
      "Batch 6 processed. Inertia: 417.13861083984375\n",
      "Batch 7 processed. Inertia: 400.7913818359375\n",
      "Batch 8 processed. Inertia: 309.4208984375\n",
      "Batch 9 processed. Inertia: 301.01910400390625\n",
      "Batch 10 processed. Inertia: 285.7824401855469\n",
      "Batch 11 processed. Inertia: 301.6285400390625\n",
      "Batch 12 processed. Inertia: 485.44708251953125\n",
      "Batch 13 processed. Inertia: 420.861572265625\n",
      "Batch 14 processed. Inertia: 565.0526123046875\n",
      "Batch 15 processed. Inertia: 404.38385009765625\n",
      "Batch 16 processed. Inertia: 510.56329345703125\n",
      "Batch 17 processed. Inertia: 391.01776123046875\n",
      "Batch 18 processed. Inertia: 445.59405517578125\n",
      "Batch 19 processed. Inertia: 425.84832763671875\n",
      "Batch 20 processed. Inertia: 444.5732116699219\n",
      "Batch 21 processed. Inertia: 400.0514221191406\n",
      "Batch 22 processed. Inertia: 426.1827392578125\n",
      "Batch 23 processed. Inertia: 316.45050048828125\n",
      "Batch 24 processed. Inertia: 453.28076171875\n",
      "Batch 25 processed. Inertia: 435.7547912597656\n",
      "Batch 26 processed. Inertia: 406.0431213378906\n",
      "Batch 27 processed. Inertia: 412.83355712890625\n",
      "Batch 28 processed. Inertia: 452.4513854980469\n",
      "Batch 29 processed. Inertia: 481.6695556640625\n",
      "Batch 30 processed. Inertia: 485.410888671875\n",
      "Batch 31 processed. Inertia: 309.1373291015625\n",
      "Batch 32 processed. Inertia: 523.2945556640625\n",
      "Batch 33 processed. Inertia: 417.32861328125\n",
      "Batch 34 processed. Inertia: 465.99365234375\n",
      "Batch 35 processed. Inertia: 439.3193664550781\n",
      "Batch 36 processed. Inertia: 429.1538391113281\n",
      "Batch 37 processed. Inertia: 517.04345703125\n",
      "Batch 38 processed. Inertia: 503.60107421875\n",
      "Batch 39 processed. Inertia: 434.019775390625\n",
      "Batch 40 processed. Inertia: 532.9052734375\n",
      "Batch 41 processed. Inertia: 350.0917663574219\n",
      "Batch 42 processed. Inertia: 403.0318603515625\n",
      "Batch 43 processed. Inertia: 384.3513488769531\n",
      "Batch 44 processed. Inertia: 388.6813659667969\n",
      "Batch 45 processed. Inertia: 375.3662414550781\n",
      "Batch 46 processed. Inertia: 334.64410400390625\n",
      "Batch 47 processed. Inertia: 401.4254150390625\n",
      "Batch 48 processed. Inertia: 414.0980224609375\n",
      "Batch 49 processed. Inertia: 363.01226806640625\n",
      "Batch 50 processed. Inertia: 422.8116149902344\n",
      "Batch 51 processed. Inertia: 339.46484375\n",
      "Batch 52 processed. Inertia: 332.7535400390625\n",
      "Batch 53 processed. Inertia: 353.57733154296875\n",
      "Batch 54 processed. Inertia: 445.7998962402344\n",
      "Batch 55 processed. Inertia: 383.07391357421875\n",
      "Batch 56 processed. Inertia: 337.39093017578125\n",
      "Batch 57 processed. Inertia: 362.4291687011719\n",
      "Batch 58 processed. Inertia: 409.3317565917969\n",
      "Batch 59 processed. Inertia: 385.68310546875\n",
      "Batch 60 processed. Inertia: 414.96240234375\n",
      "Batch 61 processed. Inertia: 306.3222961425781\n",
      "Batch 62 processed. Inertia: 435.4093933105469\n",
      "Batch 63 processed. Inertia: 326.43463134765625\n",
      "Batch 64 processed. Inertia: 376.576171875\n",
      "Batch 65 processed. Inertia: 443.3517761230469\n",
      "Batch 66 processed. Inertia: 434.5198669433594\n",
      "Batch 67 processed. Inertia: 381.04815673828125\n",
      "Batch 68 processed. Inertia: 359.0823974609375\n",
      "Batch 69 processed. Inertia: 355.78924560546875\n",
      "Batch 70 processed. Inertia: 427.12353515625\n",
      "Batch 71 processed. Inertia: 380.23321533203125\n",
      "Batch 72 processed. Inertia: 359.3143310546875\n",
      "Batch 73 processed. Inertia: 339.4300537109375\n",
      "Batch 74 processed. Inertia: 358.64886474609375\n",
      "Batch 75 processed. Inertia: 409.06396484375\n",
      "Batch 76 processed. Inertia: 474.57293701171875\n",
      "Batch 77 processed. Inertia: 452.4334716796875\n",
      "Batch 78 processed. Inertia: 384.22021484375\n",
      "Batch 79 processed. Inertia: 441.11602783203125\n",
      "Batch 80 processed. Inertia: 389.8092041015625\n",
      "Batch 81 processed. Inertia: 406.73651123046875\n",
      "Batch 82 processed. Inertia: 392.9820251464844\n",
      "Batch 83 processed. Inertia: 423.622314453125\n",
      "Batch 84 processed. Inertia: 401.7853698730469\n",
      "Batch 85 processed. Inertia: 353.51788330078125\n",
      "Batch 86 processed. Inertia: 378.2264404296875\n",
      "Batch 87 processed. Inertia: 372.6404113769531\n",
      "Batch 88 processed. Inertia: 390.7825927734375\n",
      "Batch 89 processed. Inertia: 375.72222900390625\n",
      "Batch 90 processed. Inertia: 443.18707275390625\n",
      "Batch 91 processed. Inertia: 358.0226745605469\n",
      "Batch 92 processed. Inertia: 307.60546875\n",
      "Batch 93 processed. Inertia: 343.88555908203125\n",
      "Batch 94 processed. Inertia: 367.41455078125\n",
      "Batch 95 processed. Inertia: 406.17608642578125\n",
      "Batch 96 processed. Inertia: 404.94677734375\n",
      "Batch 97 processed. Inertia: 435.797607421875\n",
      "Batch 98 processed. Inertia: 415.0554504394531\n",
      "Batch 99 processed. Inertia: 391.17742919921875\n",
      "Batch 100 processed. Inertia: 397.8115539550781\n",
      "Batch 101 processed. Inertia: 420.482666015625\n",
      "Batch 102 processed. Inertia: 406.2290344238281\n",
      "Batch 103 processed. Inertia: 341.5723876953125\n",
      "Batch 104 processed. Inertia: 424.66436767578125\n",
      "Batch 105 processed. Inertia: 363.46502685546875\n",
      "Batch 106 processed. Inertia: 340.60430908203125\n",
      "Batch 107 processed. Inertia: 395.5281982421875\n",
      "Batch 108 processed. Inertia: 417.4879455566406\n",
      "Batch 109 processed. Inertia: 402.18109130859375\n",
      "Batch 110 processed. Inertia: 291.8636779785156\n",
      "Batch 111 processed. Inertia: 330.4883728027344\n",
      "Batch 112 processed. Inertia: 366.51470947265625\n",
      "Batch 113 processed. Inertia: 317.3883972167969\n",
      "Batch 114 processed. Inertia: 210.59750366210938\n",
      "Final inertia after training: 210.59750366210938\n",
      "Cluster model saved at: /Users/steven/Python-data/full_test_1_dec/cluster_model/unet_full_test_1_dec_kmeans.pkl\n"
     ]
    }
   ],
   "source": [
    "cluster_model, convergence_history = m.train_kmeans(\n",
    "    latent_features_dataset,         # tf.data.Dataset containing batches of latent feature vectors.\n",
    "    batch_size=cluster_batch_size,   # Size of each batch for the KMeans model (controls memory usage and stability).\n",
    "    num_clusters=20,       # Desired number of clusters (centroids) to form in the data.\n",
    "    n_init=50,                       # Number of times the algorithm will run with different centroid seeds.\n",
    "    max_iter=1000,                    # Maximum iterations allowed for each mini-batch to refine centroids.\n",
    "    reassignment_ratio=0.05          # Fraction of clusters reassigned per step; lower values stabilize updates.\n",
    ")\n",
    "\n",
    "# Save cluster model\n",
    "cluster_model_path = os.path.join(job_data_path,'cluster_model')\n",
    "m.save_cluster_model(cluster_model, cluster_model_path, model_name=cluster_model_name)"
   ]
  },
  {
   "cell_type": "markdown",
   "metadata": {},
   "source": [
    "# Process Predictions MTRX data"
   ]
  },
  {
   "cell_type": "code",
   "execution_count": 13,
   "metadata": {},
   "outputs": [
    {
     "name": "stdout",
     "output_type": "stream",
     "text": [
      "Deleted: /Users/steven/Python-data/full_test_1_dec/jpg\n",
      "All specified folders have been successfully deleted.\n"
     ]
    }
   ],
   "source": [
    "dp.delete_data_folders(\n",
    "    job_data_path, \n",
    "    subdirectories='jpg',\n",
    "    override=True)"
   ]
  },
  {
   "cell_type": "code",
   "execution_count": 14,
   "metadata": {},
   "outputs": [
    {
     "name": "stdout",
     "output_type": "stream",
     "text": [
      "Found 7 files with extension 'Z_mtrx' in directory:\n",
      "/Users/steven/Python-data/mtrx/predict\n",
      "There are 7 files to process\n",
      "iiiiiii\n",
      "********************\n",
      "Conversion complete.\n",
      "********************\n",
      "\n"
     ]
    }
   ],
   "source": [
    "# Prediction data\n",
    "mtrx_predict_file_list, _ = dp.list_files_by_extension(mtrx_predict_path,'Z_mtrx',verbose=False)\n",
    "\n",
    "data_scaling = 1.e9     # Scale the z-height of the data\n",
    "\n",
    "flatten_method = 'row_and_poly_xy_deg_2'\n",
    "flatten_method = 'row_mean'\n",
    "flatten_method = 'iterate_mask'\n",
    "flatten_method = 'poly_xy'\n",
    "\n",
    "dp.process_mtrx_files(\n",
    "    mtrx_predict_file_list,\n",
    "    job_data_path, # save data path\n",
    "    flatten_method = flatten_method, pixel_density = pixel_density, pixel_ratio = pixel_ratio,\n",
    "    data_scaling = data_scaling, window_size = window_size, window_pitch = predict_window_pitch,\n",
    "    save_windows = True,\n",
    "    save_jpg = True,\n",
    "    collate = False,\n",
    "    verbose = False\n",
    "    )"
   ]
  },
  {
   "cell_type": "markdown",
   "metadata": {},
   "source": [
    "# Make data predictions"
   ]
  },
  {
   "cell_type": "code",
   "execution_count": 15,
   "metadata": {},
   "outputs": [
    {
     "name": "stdout",
     "output_type": "stream",
     "text": [
      "Model loaded from: /Users/steven/Python-data/full_test_1_dec/model/unet_full_test_1_dec.keras\n",
      "Cluster model loaded from: /Users/steven/Python-data/full_test_1_dec/cluster_model/unet_full_test_1_dec_kmeans.pkl\n"
     ]
    }
   ],
   "source": [
    "# Load the trained autoencoder\n",
    "model_path = os.path.join(job_data_path,'model')\n",
    "autoencoder_model = m.load_model(model_path, model_name=model_name)\n",
    "\n",
    "# Load a previously saved cluster model from disk\n",
    "cluster_model_path = os.path.join(job_data_path,'cluster_model')\n",
    "cluster_model = m.load_cluster_model(cluster_model_path, model_name=cluster_model_name)"
   ]
  },
  {
   "cell_type": "code",
   "execution_count": 16,
   "metadata": {},
   "outputs": [],
   "source": [
    "# Get list of folders containing predict window data\n",
    "windows_predict_path = os.path.join(job_data_path, 'windows/predict')\n",
    "predict_data_files_list = dp. find_bottom_layer_folders(windows_predict_path)\n",
    "predict_data_files_list = predict_data_files_list[:predict_data_limit]"
   ]
  },
  {
   "cell_type": "code",
   "execution_count": 17,
   "metadata": {},
   "outputs": [
    {
     "name": "stdout",
     "output_type": "stream",
     "text": [
      "Not FU so skipping: /Users/steven/Python-data/full_test_1_dec/windows/predict/predict_mix/default_2011Mar10-162902_STM-STM_Spectroscopy--1_3_BD\n",
      "Not FU so skipping: /Users/steven/Python-data/full_test_1_dec/windows/predict/predict_mix/default_2011Mar10-162902_STM-STM_Spectroscopy--1_3_BU\n",
      "Not FU so skipping: /Users/steven/Python-data/full_test_1_dec/windows/predict/predict_mix/default_2011Mar10-162902_STM-STM_Spectroscopy--1_3_FD\n",
      "Found 4624 files with extension '.npy' in directory:\n",
      "/Users/steven/Python-data/full_test_1_dec/windows/predict/predict_mix/default_2011Mar10-162902_STM-STM_Spectroscopy--1_3_FU\n",
      "Not shuffling\n",
      "Data pipeline created with 4624 files, batch size: 4624\n",
      "Sample batch shape: (4624, 32, 32, 1)\n",
      ".Combined latent features shape: (4624, 4096)\n",
      "Directory created: /Users/steven/Python-data/full_test_1_dec/predictions/2024-12-01_13-42-14\n",
      "Image saved to /Users/steven/Python-data/full_test_1_dec/predictions/2024-12-01_13-42-14/default_2011Mar10-162902_STM-STM_Spectroscopy--1_3_FU.jpg with dpi=150\n",
      "Not FU so skipping: /Users/steven/Python-data/full_test_1_dec/windows/predict/predict_mix/default_2011Mar17-102654_STM-STM_Spectroscopy--1_2_BU\n",
      "Found 18161 files with extension '.npy' in directory:\n",
      "/Users/steven/Python-data/full_test_1_dec/windows/predict/predict_mix/default_2011Mar17-102654_STM-STM_Spectroscopy--1_2_FU\n",
      "Not shuffling\n",
      "Data pipeline created with 18161 files, batch size: 18161\n",
      "Sample batch shape: (18161, 32, 32, 1)\n",
      ".Combined latent features shape: (18161, 4096)\n",
      "Image saved to /Users/steven/Python-data/full_test_1_dec/predictions/2024-12-01_13-42-14/default_2011Mar17-102654_STM-STM_Spectroscopy--1_2_FU.jpg with dpi=150\n",
      "Not FU so skipping: /Users/steven/Python-data/full_test_1_dec/windows/predict/predict_mix/default_2011May27-164015_STM-STM_Spectroscopy--22_4_BD\n",
      "Not FU so skipping: /Users/steven/Python-data/full_test_1_dec/windows/predict/predict_mix/default_2011May27-164015_STM-STM_Spectroscopy--22_4_BU\n",
      "Not FU so skipping: /Users/steven/Python-data/full_test_1_dec/windows/predict/predict_mix/default_2011May27-164015_STM-STM_Spectroscopy--22_4_FD\n",
      "Found 4624 files with extension '.npy' in directory:\n",
      "/Users/steven/Python-data/full_test_1_dec/windows/predict/predict_mix/default_2011May27-164015_STM-STM_Spectroscopy--22_4_FU\n",
      "Not shuffling\n",
      "Data pipeline created with 4624 files, batch size: 4624\n",
      "Sample batch shape: (4624, 32, 32, 1)\n",
      ".Combined latent features shape: (4624, 4096)\n",
      "Image saved to /Users/steven/Python-data/full_test_1_dec/predictions/2024-12-01_13-42-14/default_2011May27-164015_STM-STM_Spectroscopy--22_4_FU.jpg with dpi=150\n",
      "Not FU so skipping: /Users/steven/Python-data/full_test_1_dec/windows/predict/predict_mix/default_2014Aug06-115806_STM-STM_Spectroscopy--12_2_BD\n",
      "Not FU so skipping: /Users/steven/Python-data/full_test_1_dec/windows/predict/predict_mix/default_2014Aug06-115806_STM-STM_Spectroscopy--12_2_BU\n",
      "Not FU so skipping: /Users/steven/Python-data/full_test_1_dec/windows/predict/predict_mix/default_2014Aug06-115806_STM-STM_Spectroscopy--12_2_FD\n",
      "Found 20449 files with extension '.npy' in directory:\n",
      "/Users/steven/Python-data/full_test_1_dec/windows/predict/predict_mix/default_2014Aug06-115806_STM-STM_Spectroscopy--12_2_FU\n",
      "Not shuffling\n",
      "Data pipeline created with 20449 files, batch size: 20449\n",
      "Sample batch shape: (20449, 32, 32, 1)\n",
      ".Combined latent features shape: (20449, 4096)\n",
      "Image saved to /Users/steven/Python-data/full_test_1_dec/predictions/2024-12-01_13-42-14/default_2014Aug06-115806_STM-STM_Spectroscopy--12_2_FU.jpg with dpi=150\n",
      "Not FU so skipping: /Users/steven/Python-data/full_test_1_dec/windows/predict/predict_mix/default_2022Jan12-130324_STM-STM_Spectroscopy--2_3_BD\n",
      "Not FU so skipping: /Users/steven/Python-data/full_test_1_dec/windows/predict/predict_mix/default_2022Jan12-130324_STM-STM_Spectroscopy--2_3_BU\n",
      "Not FU so skipping: /Users/steven/Python-data/full_test_1_dec/windows/predict/predict_mix/default_2022Jan12-130324_STM-STM_Spectroscopy--2_3_FD\n",
      "Found 32400 files with extension '.npy' in directory:\n",
      "/Users/steven/Python-data/full_test_1_dec/windows/predict/predict_mix/default_2022Jan12-130324_STM-STM_Spectroscopy--2_3_FU\n",
      "Not shuffling\n",
      "Data pipeline created with 32400 files, batch size: 32400\n",
      "Sample batch shape: (32400, 32, 32, 1)\n",
      ".Combined latent features shape: (32400, 4096)\n",
      "Image saved to /Users/steven/Python-data/full_test_1_dec/predictions/2024-12-01_13-42-14/default_2022Jan12-130324_STM-STM_Spectroscopy--2_3_FU.jpg with dpi=150\n",
      "Not FU so skipping: /Users/steven/Python-data/full_test_1_dec/windows/predict/predict_mix/default_2024Aug07-153010_STM-STM_Spectroscopy--8_1_BD\n",
      "Not FU so skipping: /Users/steven/Python-data/full_test_1_dec/windows/predict/predict_mix/default_2024Aug07-153010_STM-STM_Spectroscopy--8_1_BU\n",
      "Not FU so skipping: /Users/steven/Python-data/full_test_1_dec/windows/predict/predict_mix/default_2024Aug07-153010_STM-STM_Spectroscopy--8_1_FD\n",
      "Found 32400 files with extension '.npy' in directory:\n",
      "/Users/steven/Python-data/full_test_1_dec/windows/predict/predict_mix/default_2024Aug07-153010_STM-STM_Spectroscopy--8_1_FU\n",
      "Not shuffling\n",
      "Data pipeline created with 32400 files, batch size: 32400\n",
      "Sample batch shape: (32400, 32, 32, 1)\n",
      ".Combined latent features shape: (32400, 4096)\n",
      "Image saved to /Users/steven/Python-data/full_test_1_dec/predictions/2024-12-01_13-42-14/default_2024Aug07-153010_STM-STM_Spectroscopy--8_1_FU.jpg with dpi=150\n",
      "Not FU so skipping: /Users/steven/Python-data/full_test_1_dec/windows/predict/predict_mix/default_2024Aug07-153010_STM-STM_Spectroscopy--9_1_BD\n",
      "Not FU so skipping: /Users/steven/Python-data/full_test_1_dec/windows/predict/predict_mix/default_2024Aug07-153010_STM-STM_Spectroscopy--9_1_BU\n",
      "Not FU so skipping: /Users/steven/Python-data/full_test_1_dec/windows/predict/predict_mix/default_2024Aug07-153010_STM-STM_Spectroscopy--9_1_FD\n",
      "Found 32400 files with extension '.npy' in directory:\n",
      "/Users/steven/Python-data/full_test_1_dec/windows/predict/predict_mix/default_2024Aug07-153010_STM-STM_Spectroscopy--9_1_FU\n",
      "Not shuffling\n",
      "Data pipeline created with 32400 files, batch size: 32400\n",
      "Sample batch shape: (32400, 32, 32, 1)\n",
      ".Combined latent features shape: (32400, 4096)\n",
      "Image saved to /Users/steven/Python-data/full_test_1_dec/predictions/2024-12-01_13-42-14/default_2024Aug07-153010_STM-STM_Spectroscopy--9_1_FU.jpg with dpi=150\n"
     ]
    }
   ],
   "source": [
    "predictions_time_stamp = datetime.now().strftime('%Y-%m-%d_%H-%M-%S')\n",
    "\n",
    "for dir in predict_data_files_list:\n",
    "    #Limit viewing to FU images\n",
    "    if not dir.endswith(\"FU\"):\n",
    "        print('Not FU so skipping: {}'.format(dir))\n",
    "        continue  \n",
    "\n",
    "    # get list of the individual file names of the windows\n",
    "    window_list, num_windows = dp.list_files_by_extension(dir, extension=\".npy\", verbose=False)\n",
    "    # load the numpy windows\n",
    "    image_windows = dp.load_n_numpy_files(window_list,num_windows)\n",
    "    # load the coordinate files for the windows for window reconstruction\n",
    "    image_windows_coordinates = dp.load_coordinates_file(dir)\n",
    "    # Build the reconstruction of the original image\n",
    "    reconstructed_img = dp.reconstruct_image(image_windows,image_windows_coordinates,window_size)\n",
    "\n",
    "    # create a tf dataset from the numpy windows for making the latent features\n",
    "    predict_dataset = m.create_tf_dataset(window_list, batch_size=num_windows, buffer_size=num_windows, shuffle=False, is_autoencoder=False)\n",
    "    # make the latent features for each window using the autoencoder model \n",
    "    latent_predict_features, num_latent_predictions = m.extract_latent_features_to_disk_from_prebatched_windows(\n",
    "        autoencoder_model, \n",
    "        predict_dataset, \n",
    "        latent_features_path, \n",
    "        features_name='latent_features_train',\n",
    "        return_array=True,\n",
    "        verbose=False)\n",
    "    # make preductions \n",
    "    cluster_predictions = cluster_model.predict(latent_predict_features)\n",
    "    # Build the reconstruction of the predicted cluster label data\n",
    "    cluster_img = dp.reconstruct_cluster_image(image_windows_coordinates,window_size, cluster_predictions)\n",
    "    image_name = os.path.basename(dir)\n",
    "    # Path to save latent features to disk\n",
    "    predictions_path = os.path.join(job_data_path, 'predictions')\n",
    "    m.display_reconstructed_and_cluster_images(reconstructed_img,cluster_img,show_overlay=True,\n",
    "                                                save_to_disk=True,\n",
    "                                                predictions_time_stamp=predictions_time_stamp,\n",
    "                                                output_path=job_data_path,\n",
    "                                                image_name=image_name,\n",
    "                                                dpi=150)"
   ]
  },
  {
   "cell_type": "code",
   "execution_count": null,
   "metadata": {},
   "outputs": [],
   "source": []
  }
 ],
 "metadata": {
  "kernelspec": {
   "display_name": "tf",
   "language": "python",
   "name": "python3"
  },
  "language_info": {
   "codemirror_mode": {
    "name": "ipython",
    "version": 3
   },
   "file_extension": ".py",
   "mimetype": "text/x-python",
   "name": "python",
   "nbconvert_exporter": "python",
   "pygments_lexer": "ipython3",
   "version": "3.8.18"
  }
 },
 "nbformat": 4,
 "nbformat_minor": 2
}
