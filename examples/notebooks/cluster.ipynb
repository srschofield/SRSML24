{
 "cells": [
  {
   "cell_type": "markdown",
   "metadata": {},
   "source": [
    "<!-- # CNN autoencoder and Clustering from MTRX data\n",
    "\n",
    "Use this notebook to load Scienta Omicron Matrix format SPM data and create standardised images for machine learning training and analysis. The code can generate both JPG image data, useful for manually checking the data, and windowed numpy data that can be loaded into ML models. \n",
    "\n",
    "The notebook then creates an autoencoder for training on a large dataset, followed by KMEANS clustering. \n",
    "\n",
    "**Author**: Steven R. Schofield  \n",
    "**Created**: November, 2024 -->"
   ]
  },
  {
   "cell_type": "code",
   "execution_count": 1,
   "metadata": {},
   "outputs": [
    {
     "name": "stdout",
     "output_type": "stream",
     "text": [
      "module_path = /hpc/srs/Python/modules\n",
      "data_path = /hpc/srs/Python-data\n"
     ]
    }
   ],
   "source": [
    "# Define path where to find the module. This allows for a different path depending on where the code is running (my mac or the cluster)\n",
    "import os\n",
    "\n",
    "module_path_list = [\n",
    "    '/Users/steven/academic-iCloud/Python/modules',\n",
    "    '/hpc/srs/Python/modules'\n",
    "] \n",
    "\n",
    "data_path_list = [\n",
    "    '/Users/steven/Python-data',\n",
    "    '/hpc/srs/Python-data'\n",
    "]\n",
    "\n",
    "module_path = next((p for p in module_path_list if os.path.exists(p)), None)\n",
    "if not module_path:\n",
    "    exit(\"No valid module paths.\")\n",
    "else:\n",
    "    print('module_path = {}'.format(module_path))\n",
    "\n",
    "data_path = next((p for p in data_path_list if os.path.exists(p)), None)\n",
    "if not module_path:\n",
    "    exit(\"No valid data paths.\")\n",
    "else:\n",
    "    print('data_path = {}'.format(data_path))\n",
    "\n",
    "# adjust tensorflow output level\n",
    "os.environ['TF_CPP_MIN_LOG_LEVEL'] = '3' # 0 default all messages, 1 warnings and errors, 2, errors, 3 fatal errors only"
   ]
  },
  {
   "cell_type": "code",
   "execution_count": 2,
   "metadata": {},
   "outputs": [
    {
     "name": "stdout",
     "output_type": "stream",
     "text": [
      "\n",
      "Python version: 3.9.15 | packaged by conda-forge | (main, Nov 22 2022, 08:45:29) \n",
      "[GCC 10.4.0]\n",
      "TensorFlow version: 2.4.1\n",
      "TensorFlow is built with CUDA: True\n",
      "TensorFlow is built with ROCm: False\n",
      "\n",
      "System: Linux 4.18.0-513.24.1.el8_9.x86_64 (x86_64)\n",
      "Platform: Linux-4.18.0-513.24.1.el8_9.x86_64-x86_64-with-glibc2.28\n",
      "Processor: x86_64\n",
      "\n",
      "Number of GPUs available to TensorFlow: 1\n",
      "GPU Device: PhysicalDevice(name='/physical_device:GPU:0', device_type='GPU')\n",
      "\n",
      ">>> Running with GPU available <<<  (Linux-4.18.0-513.24.1.el8_9.x86_64-x86_64-with-glibc2.28)\n",
      "\n",
      "Current time 2024-12-06 13:40:03\n"
     ]
    }
   ],
   "source": [
    "# # Ensure modules are reloaded \n",
    "%load_ext autoreload\n",
    "%autoreload 2\n",
    "\n",
    "# Import standard modules\n",
    "import os, sys\n",
    "import numpy as np\n",
    "\n",
    "import platform\n",
    "\n",
    "from datetime import datetime\n",
    "\n",
    "# Add custom module path to list\n",
    "sys.path.append(module_path)\n",
    "\n",
    "# Import custom module\n",
    "import SRSML24.data_prep as dp\n",
    "import SRSML24.model as m\n",
    "\n",
    "import tensorflow as tf\n",
    "#from tensorflow.keras.optimizers.legacy import Adam \n",
    "from tensorflow.keras.optimizers import Adam\n",
    "\n",
    "import matplotlib.pyplot as plt\n",
    "\n",
    "#import platform \n",
    "\n",
    "m.print_system_info()\n",
    "\n",
    "start_time = dp.current_datetime()"
   ]
  },
  {
   "cell_type": "code",
   "execution_count": null,
   "metadata": {},
   "outputs": [],
   "source": [
    "# Parameters for windows creation\n",
    "job_name = 'all_data_2023'\n",
    "job_data_path = dp.create_new_data_path(data_path, job_name, include_date=False)\n",
    "mtrx_train_path = os.path.join(data_path, 'mtrx/train')\n",
    "mtrx_test_path = os.path.join(data_path, 'mtrx/test')\n",
    "mtrx_predict_path = os.path.join(data_path, 'mtrx/predict')\n",
    "flatten_method = 'poly_xy'\n",
    "pixel_density = 15.0    # Convert all images to a constant pixel density\n",
    "pixel_ratio = 0.7       # If an image has less than this % in the slow scan direction it is discarded\n",
    "data_scaling = 1.e9     # Scale the z-height of the data\n",
    "window_size = 32        # Window size for training/validation\n",
    "window_pitch = 32       # Window pitch for training/validation\n",
    "together = True        # Set this True to save image windows for a mtrx image as a single file rather than separate files.\n",
    "collate = False         # Set this True to remove all subfolder directories and save all data in root data path\n",
    "\n",
    "# Parameters for training\n",
    "model_name = 'unet_' + job_name\n",
    "batch_size = 128\n",
    "buffer_size = 12800 # shuffling\n",
    "learning_rate = 1e-4\n",
    "epochs = 5\n",
    "\n",
    "# Parameters for clustering\n",
    "cluster_model_name = model_name + '_kmeans'\n",
    "cluster_batch_size = 5120 # This is the number of latent features in a batch for clustering. \n",
    "                          # Does not have to be the same as for training and probably should \n",
    "                          # be larger. \n",
    "cluster_buffer_size = cluster_batch_size * 5    # shuffling buffer\n",
    "num_clusters=20                                # Desired number of clusters (centroids) to form in the data.\n",
    "n_init=50                                       # Number of times the algorithm will run with different centroid seeds.\n",
    "max_iter=1000                                   # Maximum iterations allowed for each mini-batch to refine centroids.\n",
    "reassignment_ratio=0.05                         # Fraction of clusters reassigned per step; lower values stabilize updates.\n",
    "\n",
    "# Parameters for PREDICTIONS\n",
    "predict_window_pitch = 4               # Window pitch for prediction\n",
    "\n",
    "# DATA LIMITS FOR TESTING THE CODE\n",
    "mtrx_train_data_limit = None #2000         # Number of MTRX files to process (training)\n",
    "mtrx_test_data_limit = None #500         # Number of MTRX files to process (validation)\n",
    "\n",
    "train_data_limit = None #2000*batch_size\n",
    "predict_data_limit = None"
   ]
  },
  {
   "cell_type": "code",
   "execution_count": 4,
   "metadata": {},
   "outputs": [
    {
     "name": "stdout",
     "output_type": "stream",
     "text": [
      "Deleted: /hpc/srs/Python-data/all_data_2023/jpg\n",
      "Deleted: /hpc/srs/Python-data/all_data_2023/windows\n",
      "All specified folders have been successfully deleted.\n"
     ]
    }
   ],
   "source": [
    "# REMOVE ALL DATA FOLDERS EXCEPT MTRX \n",
    "dp.delete_data_folders(job_data_path, override=True)"
   ]
  },
  {
   "cell_type": "code",
   "execution_count": 5,
   "metadata": {},
   "outputs": [
    {
     "name": "stdout",
     "output_type": "stream",
     "text": [
      "Found 62592 files with extension 'Z_mtrx' in directory:\n",
      "/hpc/srs/Python-data/mtrx/train\n",
      "There are 2000 files to process\n",
      "....t...t....t....................t.t............ttt.......t.......t.....ttt.t............tt..tttt. 100\n",
      "t........t......ttt..t..tt.ttt.........t..t....tt.t.tt..tt...tttttttttttttttttttttt.ttt.ttt.tt..ttt 200\n",
      "\btt..t..tttt...tt.tttt.t.t.tttttttt.t.tt.tt.t..t.tt..t.......t.t....ttt...........ttt........t...t... 300\n",
      "t....t.............t...............tt..................t........t......ttt.ttt...t....t..t.t....t.t 400\n",
      "........tttttttttttttt...tttttttttttt........t........ttttttt....tttt.tt.......ttttt.t............. 500\n",
      ".t.t.t.t..................t....tttttttttt.tt....t.t.t..ttt.t.t...t.t.t.t.t..t..t.t.t..t..t.t.t.t... 600\n",
      "tt..t..t.tt.t..t.t.t.t.t.t..t..t....tt.t.t..t......................t..t.t.......................... 700\n",
      ".....tt.t..ttttt.........t.....tt.....t..t..t.tt.t....tt...tt..t.t.tttt...tt..t.tt.t..t..t........t 800\n",
      ".....tt.tttt..ttttt.t...t..tt.....t..t..t...t..t..t.tt..t.t..t...t..t.....t...t..t..t.t..t..tttt.t. 900\n",
      "\bttt..t.t....t..t.t...tttt.t.t.t.t.t.tt..t..t..t.tt.ttt..t.t.t...t....ttttttt..ttt.t..t.t.t.t.t..t.t. 1000\n",
      "\bt.t...tttttttt..t...t.tt..t.t.t..t.t.t.t.t..t...tt..t.t.t..ttt..tttt.tt..ttttt..tt.t.tttt.tt.t.tt.t. 1100\n",
      "tttt.t..t..t...t.t.t..t..tt..tttt.t.tt.t.tttt.ttt..............tt.t.tt.tt..t.t....t..t.t..t......tt 1200\n",
      "\bttttt......tt.........t.............t..........tt...t....ttt...tt.t.t.tt.tt..t.tt.tttt..tt..t.t..ttt 1300\n",
      "\btttt.t.t..t.....t.....ttttttttttttttttttttttttttt.t..t.t..ttttt.t.t.ttttttt...t..ttttttt....tt..t..t 1400\n",
      "\btttt......ttttttt.ttt.tt.t.t..tttttt...tt..t..........t................tt..........ttttt.ttttttttttt 1500\n",
      "\bttttttttttttttt.t.ttttt.ttt.t..tttttt.ttttttttt.t..t.t.t...tt.......t.t..tt.ttttt.t....ttt...t.tt..t 1600\n",
      "t.t..ttt..t...tt...t....tt....t..t.t..ttttt.tttt....t......ttttttttttttttttttttttt.ttttttt...tttttt 1700\n",
      "\bttttttttttttttt...t....t..ttttt....tt....ttt.......ttt.....tttt......tttttttttttttt.ttttttt.t.tt.... 1800\n",
      "t.....t........t...t.t...t...t.tt........t.tttttttttttt.ttttttt...t.tttt..tttt..t.t................ 1900\n",
      ".................t.....tttt...t.ttt..t.ttt.ttt..ttttt....t..t.t....tt....t......................... 2000\n",
      "\n",
      "********************\n",
      "Conversion complete.\n",
      "********************\n",
      "\n",
      "Found 2560 files with extension 'Z_mtrx' in directory:\n",
      "/hpc/srs/Python-data/mtrx/test\n",
      "There are 500 files to process\n",
      "t....t..t.....tt..........................t..............t...t....t.t.....t....................t..t 100\n",
      "t.............t.t......t..t...t.t.....t........t.t.tt..t.....t....................t..t....t.t.t.... 200\n",
      ".t...............t........t..tt..ttttt....................t......tt...........t......t..t.....t.... 300\n",
      ".............t............t..t......t....t....t............t.............t................ttt...... 400\n",
      "..t.....t.t.t.....t.t.t..t...t......t....tttt..t....ttt............................................ 500\n",
      "\n",
      "********************\n",
      "Conversion complete.\n",
      "********************\n",
      "\n"
     ]
    }
   ],
   "source": [
    "# Training data\n",
    "mtrx_train_file_list, _ = dp.list_files_by_extension(mtrx_train_path,'Z_mtrx',verbose=False)\n",
    "\n",
    "dp.process_mtrx_files(\n",
    "    mtrx_train_file_list[0:mtrx_train_data_limit],\n",
    "    job_data_path, # save data path\n",
    "    flatten_method = flatten_method, pixel_density = pixel_density, pixel_ratio = pixel_ratio,\n",
    "    data_scaling = data_scaling, window_size = window_size, window_pitch = window_pitch,\n",
    "    save_windows = True,\n",
    "    save_jpg = True,\n",
    "    together = together,\n",
    "    collate = collate,\n",
    "    verbose = False\n",
    "    )\n",
    "\n",
    "# Test data\n",
    "mtrx_test_file_list, _ = dp.list_files_by_extension(mtrx_test_path,'Z_mtrx',verbose=False)\n",
    "\n",
    "dp.process_mtrx_files(\n",
    "    mtrx_test_file_list[0:mtrx_test_data_limit],\n",
    "    job_data_path, # save data path\n",
    "    flatten_method = flatten_method, pixel_density = pixel_density, pixel_ratio = pixel_ratio,\n",
    "    data_scaling = data_scaling, window_size = window_size, window_pitch = window_pitch,\n",
    "    save_windows = True,\n",
    "    save_jpg = True,\n",
    "    together = together,\n",
    "    collate = collate,\n",
    "    verbose = False\n",
    "    )"
   ]
  },
  {
   "cell_type": "markdown",
   "metadata": {},
   "source": [
    "<!-- # Set up tensorflow data pipeline -->"
   ]
  },
  {
   "cell_type": "code",
   "execution_count": 6,
   "metadata": {},
   "outputs": [
    {
     "name": "stdout",
     "output_type": "stream",
     "text": [
      "Found 2654 files with extension 'npy' in directory:\n",
      "/hpc/srs/Python-data/all_data_2023/windows/train\n",
      "Data pipeline created with 2654 files, batch size: 128, window size: 32\n",
      "Sample batch shape: (128, 32, 32, 1)\n",
      "\n"
     ]
    }
   ],
   "source": [
    "# Training data - tensorflow data pipeline for autoencoder\n",
    "windows_train_path = os.path.join(job_data_path, 'windows/train')\n",
    "train_files, num_train = dp.list_files_by_extension(windows_train_path, 'npy')\n",
    "train_files = train_files[:train_data_limit]\n",
    "# Create dataset with prefetching\n",
    "#train_dataset = m.create_tf_dataset(train_files, batch_size=batch_size, buffer_size=buffer_size, is_autoencoder=True, shuffle=True)\n",
    "train_dataset = m.create_tf_dataset_batched(\n",
    "    train_files, \n",
    "    batch_size=batch_size, \n",
    "    buffer_size=buffer_size, \n",
    "    window_size=window_size,\n",
    "    is_autoencoder=True, \n",
    "    shuffle=True)"
   ]
  },
  {
   "cell_type": "code",
   "execution_count": 7,
   "metadata": {},
   "outputs": [
    {
     "name": "stdout",
     "output_type": "stream",
     "text": [
      "Found 171 files with extension 'npy' in directory:\n",
      "/hpc/srs/Python-data/all_data_2023/windows/test\n",
      "Data pipeline created with 171 files, batch size: 128, window size: 32\n",
      "Sample batch shape: (128, 32, 32, 1)\n",
      "\n"
     ]
    }
   ],
   "source": [
    "# Validation data - tensorflow data pipeline for autoencoder\n",
    "windows_test_path = os.path.join(job_data_path, 'windows/test')\n",
    "test_files, num_test = dp.list_files_by_extension(windows_test_path, 'npy')\n",
    "test_files = test_files[:train_data_limit]\n",
    "\n",
    "# Create dataset with prefetching\n",
    "test_dataset = m.create_tf_dataset_batched(\n",
    "    test_files, \n",
    "    batch_size=batch_size, \n",
    "    buffer_size=buffer_size, \n",
    "    window_size=window_size,\n",
    "    is_autoencoder=True, \n",
    "    shuffle=True)"
   ]
  },
  {
   "cell_type": "markdown",
   "metadata": {},
   "source": [
    "<!-- # Autoencoder build and train -->"
   ]
  },
  {
   "cell_type": "code",
   "execution_count": 8,
   "metadata": {},
   "outputs": [
    {
     "name": "stdout",
     "output_type": "stream",
     "text": [
      "Model: \"unet_all_data_2023\"\n",
      "__________________________________________________________________________________________________\n",
      "Layer (type)                    Output Shape         Param #     Connected to                     \n",
      "==================================================================================================\n",
      "Input_windows (InputLayer)      [(None, 32, 32, 1)]  0                                            \n",
      "__________________________________________________________________________________________________\n",
      "Convolutional_1 (Conv2D)        (None, 32, 32, 32)   320         Input_windows[0][0]              \n",
      "__________________________________________________________________________________________________\n",
      "Dropout_1 (Dropout)             (None, 32, 32, 32)   0           Convolutional_1[0][0]            \n",
      "__________________________________________________________________________________________________\n",
      "MaxPooling_1 (MaxPooling2D)     (None, 16, 16, 32)   0           Dropout_1[0][0]                  \n",
      "__________________________________________________________________________________________________\n",
      "Convolutional_2 (Conv2D)        (None, 16, 16, 64)   18496       MaxPooling_1[0][0]               \n",
      "__________________________________________________________________________________________________\n",
      "Dropout_2 (Dropout)             (None, 16, 16, 64)   0           Convolutional_2[0][0]            \n",
      "__________________________________________________________________________________________________\n",
      "MaxPooling_2 (MaxPooling2D)     (None, 8, 8, 64)     0           Dropout_2[0][0]                  \n",
      "__________________________________________________________________________________________________\n",
      "Convolutional_3 (Conv2D)        (None, 8, 8, 128)    73856       MaxPooling_2[0][0]               \n",
      "__________________________________________________________________________________________________\n",
      "Dropout_3 (Dropout)             (None, 8, 8, 128)    0           Convolutional_3[0][0]            \n",
      "__________________________________________________________________________________________________\n",
      "MaxPooling_3 (MaxPooling2D)     (None, 4, 4, 128)    0           Dropout_3[0][0]                  \n",
      "__________________________________________________________________________________________________\n",
      "Bottleneck (Conv2D)             (None, 4, 4, 256)    295168      MaxPooling_3[0][0]               \n",
      "__________________________________________________________________________________________________\n",
      "UpSampling_1 (UpSampling2D)     (None, 8, 8, 256)    0           Bottleneck[0][0]                 \n",
      "__________________________________________________________________________________________________\n",
      "UpConv_1 (Conv2D)               (None, 8, 8, 128)    295040      UpSampling_1[0][0]               \n",
      "__________________________________________________________________________________________________\n",
      "Skip_Connection_1 (Concatenate) (None, 8, 8, 256)    0           UpConv_1[0][0]                   \n",
      "                                                                 Convolutional_3[0][0]            \n",
      "__________________________________________________________________________________________________\n",
      "Convolutional_4 (Conv2D)        (None, 8, 8, 128)    295040      Skip_Connection_1[0][0]          \n",
      "__________________________________________________________________________________________________\n",
      "UpSampling_2 (UpSampling2D)     (None, 16, 16, 128)  0           Convolutional_4[0][0]            \n",
      "__________________________________________________________________________________________________\n",
      "UpConv_2 (Conv2D)               (None, 16, 16, 64)   73792       UpSampling_2[0][0]               \n",
      "__________________________________________________________________________________________________\n",
      "Skip_Connection_2 (Concatenate) (None, 16, 16, 128)  0           UpConv_2[0][0]                   \n",
      "                                                                 Convolutional_2[0][0]            \n",
      "__________________________________________________________________________________________________\n",
      "Convolutional_5 (Conv2D)        (None, 16, 16, 64)   73792       Skip_Connection_2[0][0]          \n",
      "__________________________________________________________________________________________________\n",
      "UpSampling_3 (UpSampling2D)     (None, 32, 32, 64)   0           Convolutional_5[0][0]            \n",
      "__________________________________________________________________________________________________\n",
      "UpConv_3 (Conv2D)               (None, 32, 32, 32)   18464       UpSampling_3[0][0]               \n",
      "__________________________________________________________________________________________________\n",
      "Skip_Connection_3 (Concatenate) (None, 32, 32, 64)   0           UpConv_3[0][0]                   \n",
      "                                                                 Convolutional_1[0][0]            \n",
      "__________________________________________________________________________________________________\n",
      "Convolutional_6 (Conv2D)        (None, 32, 32, 32)   18464       Skip_Connection_3[0][0]          \n",
      "__________________________________________________________________________________________________\n",
      "Output (Conv2D)                 (None, 32, 32, 1)    33          Convolutional_6[0][0]            \n",
      "==================================================================================================\n",
      "Total params: 1,162,465\n",
      "Trainable params: 1,162,465\n",
      "Non-trainable params: 0\n",
      "__________________________________________________________________________________________________\n",
      "Not running on Mac with Apple Silicon. Using new RMSprop optimizer.\n"
     ]
    }
   ],
   "source": [
    "# Build and compile the UNET model\n",
    "autoencoder_model = m.build_autoencoder(window_size=window_size,model_name=model_name)\n",
    "autoencoder_model.summary()\n",
    "\n",
    "# Check if running on Apple Silicon\n",
    "is_mac_silicon = platform.system() == \"Darwin\" and platform.processor() == \"arm\"\n",
    "\n",
    "if is_mac_silicon:\n",
    "    print(\"Running on Mac with Apple Silicon. Using legacy RMSprop optimizer.\")\n",
    "    autoencoder_model.compile(\n",
    "        optimizer=tf.keras.optimizers.legacy.RMSprop(learning_rate=learning_rate),\n",
    "        loss='mean_squared_error',\n",
    "        metrics=['mse', 'mae']\n",
    "    )\n",
    "else:\n",
    "    print(\"Not running on Mac with Apple Silicon. Using new RMSprop optimizer.\")\n",
    "    autoencoder_model.compile(\n",
    "        optimizer=tf.keras.optimizers.RMSprop(learning_rate=learning_rate),\n",
    "        loss='mean_squared_error',\n",
    "        metrics=['mse', 'mae']\n",
    "    )\n"
   ]
  },
  {
   "cell_type": "code",
   "execution_count": 9,
   "metadata": {},
   "outputs": [
    {
     "name": "stdout",
     "output_type": "stream",
     "text": [
      "Epoch 1/5\n",
      "5083/5083 [==============================] - 303s 58ms/step - loss: 0.0062 - mse: 0.0062 - mae: 0.0501 - val_loss: 1.5403e-04 - val_mse: 1.5403e-04 - val_mae: 0.0097\n",
      "Epoch 2/5\n",
      "5083/5083 [==============================] - 878s 173ms/step - loss: 1.1974e-04 - mse: 1.1974e-04 - mae: 0.0091 - val_loss: 3.1835e-04 - val_mse: 3.1835e-04 - val_mae: 0.0162\n",
      "Epoch 3/5\n",
      "5083/5083 [==============================] - 1066s 210ms/step - loss: 6.5133e-05 - mse: 6.5133e-05 - mae: 0.0068 - val_loss: 1.7435e-05 - val_mse: 1.7435e-05 - val_mae: 0.0027\n",
      "Epoch 4/5\n",
      "5083/5083 [==============================] - 1075s 211ms/step - loss: 4.5704e-05 - mse: 4.5704e-05 - mae: 0.0057 - val_loss: 8.9255e-05 - val_mse: 8.9255e-05 - val_mae: 0.0084\n",
      "Epoch 5/5\n",
      "5083/5083 [==============================] - 1063s 209ms/step - loss: 3.4458e-05 - mse: 3.4458e-05 - mae: 0.0050 - val_loss: 1.2133e-05 - val_mse: 1.2133e-05 - val_mae: 0.0022\n",
      "Model saved at: /hpc/srs/Python-data/all_data_2023/model/unet_all_data_2023.keras\n",
      "Current time 2024-12-06 15:39:18\n",
      "Elapsed time: 1 hours, 59 minutes, 14 seconds.\n"
     ]
    }
   ],
   "source": [
    "# Train the model using the tf.data datasets\n",
    "history = autoencoder_model.fit(\n",
    "    train_dataset,\n",
    "    validation_data=test_dataset,\n",
    "    epochs=epochs,\n",
    "    shuffle=True,\n",
    "    verbose=1\n",
    ")\n",
    "\n",
    "# Save the model as soon as training completes\n",
    "model_path = os.path.join(job_data_path,'model')\n",
    "m.save_model(autoencoder_model, model_path, model_name=model_name)\n",
    "\n",
    "end_time = dp.current_datetime()\n",
    "dp.elapsed_time(start_time,end_time)"
   ]
  },
  {
   "cell_type": "code",
   "execution_count": 10,
   "metadata": {},
   "outputs": [
    {
     "name": "stdout",
     "output_type": "stream",
     "text": [
      "Plot saved to /hpc/srs/Python-data/all_data_2023/model/history.jpg\n"
     ]
    },
    {
     "data": {
      "image/png": "[encoded data removed]",
      "text/plain": [
       "<Figure size 1200x500 with 2 Axes>"
      ]
     },
     "metadata": {},
     "output_type": "display_data"
    }
   ],
   "source": [
    "# Plot training history\n",
    "m.plot_training_history(history, \n",
    "                        loss_name='loss', \n",
    "                        val_loss_name='val_loss', \n",
    "                        metric_names=['mse', 'mae'], \n",
    "                        save_to_disk=True,\n",
    "                        val_metric_names=['val_mse', 'val_mae'],\n",
    "                        output_path=model_path,\n",
    "                        dpi=150)"
   ]
  },
  {
   "cell_type": "markdown",
   "metadata": {},
   "source": [
    "<!-- # Extract latent features using autoencoder model\n",
    "Will save the latent features also to disk so this step needs to run only once for a given set of parameters -->"
   ]
  },
  {
   "cell_type": "code",
   "execution_count": 11,
   "metadata": {},
   "outputs": [
    {
     "name": "stdout",
     "output_type": "stream",
     "text": [
      "No target folders found to delete.\n"
     ]
    }
   ],
   "source": [
    "dp.delete_data_folders(\n",
    "    job_data_path, \n",
    "    subdirectories='latent_features',\n",
    "    override=True)"
   ]
  },
  {
   "cell_type": "code",
   "execution_count": 12,
   "metadata": {},
   "outputs": [
    {
     "name": "stdout",
     "output_type": "stream",
     "text": [
      "Found 2654 files with extension 'npy' in directory:\n",
      "/hpc/srs/Python-data/all_data_2023/windows/train\n",
      "Data pipeline created with 2654 files, batch size: 5120, window size: 32\n",
      "Sample batch shape: (5120, 32, 32, 1)\n",
      "\n"
     ]
    }
   ],
   "source": [
    "# Training data - tensorflow data pipeline \n",
    "windows_train_path = os.path.join(job_data_path, 'windows/train')\n",
    "train_files, num_train = dp.list_files_by_extension(windows_train_path, 'npy')\n",
    "train_files = train_files[:train_data_limit]\n",
    "\n",
    "train_dataset = m.create_tf_dataset_batched(\n",
    "    train_files, \n",
    "    batch_size=cluster_batch_size, \n",
    "    buffer_size=cluster_buffer_size, \n",
    "    window_size=window_size,\n",
    "    is_autoencoder=True, \n",
    "    shuffle=True)"
   ]
  },
  {
   "cell_type": "code",
   "execution_count": 13,
   "metadata": {},
   "outputs": [
    {
     "name": "stdout",
     "output_type": "stream",
     "text": [
      "Model loaded from: /hpc/srs/Python-data/all_data_2023/model/unet_all_data_2023.keras\n"
     ]
    }
   ],
   "source": [
    "# Load the trained autoencoder model\n",
    "model_path = os.path.join(job_data_path,'model')\n",
    "autoencoder_model = m.load_model(model_path, model_name=model_name)"
   ]
  },
  {
   "cell_type": "code",
   "execution_count": 14,
   "metadata": {},
   "outputs": [
    {
     "name": "stdout",
     "output_type": "stream",
     "text": [
      "....................................................................................................100\n",
      "...........................\n",
      "All latent features have been saved to /hpc/srs/Python-data/all_data_2023/latent_features.\n",
      "Sample batch shape: (5120, 4096)\n"
     ]
    }
   ],
   "source": [
    "# Path to save latent features to disk\n",
    "latent_features_path = os.path.join(job_data_path, 'latent_features')\n",
    "\n",
    "m.extract_latent_features_to_disk_from_prebatched_windows(\n",
    "    autoencoder_model, \n",
    "    train_dataset, \n",
    "    latent_features_path, \n",
    "    features_name='latent_features_train',\n",
    "    return_array=False,\n",
    "    verbose=False)"
   ]
  },
  {
   "cell_type": "markdown",
   "metadata": {},
   "source": [
    "<!-- # Create tensorflow dataset pipeline for latent features -->"
   ]
  },
  {
   "cell_type": "code",
   "execution_count": 15,
   "metadata": {},
   "outputs": [
    {
     "name": "stdout",
     "output_type": "stream",
     "text": [
      "Found 128 files with extension 'npy' in directory:\n",
      "/hpc/srs/Python-data/all_data_2023/latent_features\n"
     ]
    }
   ],
   "source": [
    "# List and sort latent feature files\n",
    "latent_features_path = os.path.join(job_data_path, 'latent_features')\n",
    "latent_features_files, num_latent_files = dp.list_files_by_extension(latent_features_path, 'npy')"
   ]
  },
  {
   "cell_type": "code",
   "execution_count": 16,
   "metadata": {},
   "outputs": [
    {
     "name": "stdout",
     "output_type": "stream",
     "text": [
      "Data pipeline created with 128 files, batch size: 5120\n",
      "Shuffling enabled with buffer size: 25600\n",
      "Batch shape: (5120, 4096)\n"
     ]
    }
   ],
   "source": [
    "# Load the latent features from disk into a tensor dataset pipeline\n",
    "latent_features_dataset = m.create_latent_features_tf_dataset(\n",
    "    latent_features_files,\n",
    "    batch_size=cluster_batch_size,\n",
    "    shuffle=True, \n",
    "    shuffle_buffer_size=cluster_buffer_size)"
   ]
  },
  {
   "cell_type": "markdown",
   "metadata": {},
   "source": [
    "<!-- # Train KMEANS cluster model -->"
   ]
  },
  {
   "cell_type": "code",
   "execution_count": 17,
   "metadata": {},
   "outputs": [
    {
     "name": "stderr",
     "output_type": "stream",
     "text": [
      "/hpc/srs/local/miniconda3/envs/tf/lib/python3.9/site-packages/sklearn/cluster/_kmeans.py:1923: RuntimeWarning: Explicit initial center position passed: performing only one init in MiniBatchKMeans instead of n_init=50.\n",
      "  super()._check_params_vs_input(X, default_n_init=3)\n"
     ]
    },
    {
     "name": "stdout",
     "output_type": "stream",
     "text": [
      "Batch 1 processed. Inertia: 398.7109069824219\n",
      "Batch 2 processed. Inertia: 350.64111328125\n",
      "Batch 3 processed. Inertia: 390.0553894042969\n",
      "Batch 4 processed. Inertia: 388.5543518066406\n",
      "Batch 5 processed. Inertia: 388.7896728515625\n",
      "Batch 6 processed. Inertia: 408.3583984375\n",
      "Batch 7 processed. Inertia: 408.9464416503906\n",
      "Batch 8 processed. Inertia: 373.8511657714844\n",
      "Batch 9 processed. Inertia: 392.7649230957031\n",
      "Batch 10 processed. Inertia: 349.2171936035156\n",
      "Batch 11 processed. Inertia: 378.14154052734375\n",
      "Batch 12 processed. Inertia: 397.2472839355469\n",
      "Batch 13 processed. Inertia: 402.35626220703125\n",
      "Batch 14 processed. Inertia: 376.5395812988281\n",
      "Batch 15 processed. Inertia: 349.9267883300781\n",
      "Batch 16 processed. Inertia: 365.1344909667969\n",
      "Batch 17 processed. Inertia: 401.96160888671875\n",
      "Batch 18 processed. Inertia: 355.70867919921875\n",
      "Batch 19 processed. Inertia: 422.6197204589844\n",
      "Batch 20 processed. Inertia: 383.02716064453125\n",
      "Batch 21 processed. Inertia: 384.4364013671875\n",
      "Batch 22 processed. Inertia: 371.87158203125\n",
      "Batch 23 processed. Inertia: 361.7069091796875\n",
      "Batch 24 processed. Inertia: 367.6029357910156\n",
      "Batch 25 processed. Inertia: 400.6494140625\n",
      "Batch 26 processed. Inertia: 369.40484619140625\n",
      "Batch 27 processed. Inertia: 401.1337585449219\n",
      "Batch 28 processed. Inertia: 366.14990234375\n",
      "Batch 29 processed. Inertia: 375.2796325683594\n",
      "Batch 30 processed. Inertia: 357.9502868652344\n",
      "Batch 31 processed. Inertia: 358.5747985839844\n",
      "Batch 32 processed. Inertia: 353.0765380859375\n",
      "Batch 33 processed. Inertia: 368.0688781738281\n",
      "Batch 34 processed. Inertia: 376.9181823730469\n",
      "Batch 35 processed. Inertia: 394.14306640625\n",
      "Batch 36 processed. Inertia: 368.4258117675781\n",
      "Batch 37 processed. Inertia: 388.28619384765625\n",
      "Batch 38 processed. Inertia: 363.9813537597656\n",
      "Batch 39 processed. Inertia: 391.5401306152344\n",
      "Batch 40 processed. Inertia: 378.1402893066406\n",
      "Batch 41 processed. Inertia: 373.7706298828125\n",
      "Batch 42 processed. Inertia: 359.1635437011719\n",
      "Batch 43 processed. Inertia: 413.8722229003906\n",
      "Batch 44 processed. Inertia: 383.14410400390625\n",
      "Batch 45 processed. Inertia: 363.4245910644531\n",
      "Batch 46 processed. Inertia: 392.4698181152344\n",
      "Batch 47 processed. Inertia: 383.6103210449219\n",
      "Batch 48 processed. Inertia: 386.9658508300781\n",
      "Batch 49 processed. Inertia: 379.52880859375\n",
      "Batch 50 processed. Inertia: 416.7514343261719\n",
      "Batch 51 processed. Inertia: 429.185302734375\n",
      "Batch 52 processed. Inertia: 369.0444641113281\n",
      "Batch 53 processed. Inertia: 384.88995361328125\n",
      "Batch 54 processed. Inertia: 371.947021484375\n",
      "Batch 55 processed. Inertia: 349.8564453125\n",
      "Batch 56 processed. Inertia: 407.5040588378906\n",
      "Batch 57 processed. Inertia: 371.7731018066406\n",
      "Batch 58 processed. Inertia: 392.988525390625\n",
      "Batch 59 processed. Inertia: 363.79888916015625\n",
      "Batch 60 processed. Inertia: 372.089111328125\n",
      "Batch 61 processed. Inertia: 375.5284729003906\n",
      "Batch 62 processed. Inertia: 364.269287109375\n",
      "Batch 63 processed. Inertia: 377.57965087890625\n",
      "Batch 64 processed. Inertia: 346.50518798828125\n",
      "Batch 65 processed. Inertia: 404.7129211425781\n",
      "Batch 66 processed. Inertia: 413.5346374511719\n",
      "Batch 67 processed. Inertia: 379.08587646484375\n",
      "Batch 68 processed. Inertia: 376.2444152832031\n",
      "Batch 69 processed. Inertia: 382.9383544921875\n",
      "Batch 70 processed. Inertia: 406.16326904296875\n",
      "Batch 71 processed. Inertia: 340.3486328125\n",
      "Batch 72 processed. Inertia: 397.8939514160156\n",
      "Batch 73 processed. Inertia: 402.0893249511719\n",
      "Batch 74 processed. Inertia: 370.48028564453125\n",
      "Batch 75 processed. Inertia: 389.1786193847656\n",
      "Batch 76 processed. Inertia: 384.2569885253906\n",
      "Batch 77 processed. Inertia: 350.0826721191406\n",
      "Batch 78 processed. Inertia: 379.08819580078125\n",
      "Batch 79 processed. Inertia: 391.0654602050781\n",
      "Batch 80 processed. Inertia: 394.6353759765625\n",
      "Batch 81 processed. Inertia: 362.2140808105469\n",
      "Batch 82 processed. Inertia: 384.7019348144531\n",
      "Batch 83 processed. Inertia: 345.68170166015625\n",
      "Batch 84 processed. Inertia: 354.1140441894531\n",
      "Batch 85 processed. Inertia: 365.167724609375\n",
      "Batch 86 processed. Inertia: 363.3945617675781\n",
      "Batch 87 processed. Inertia: 365.29205322265625\n",
      "Batch 88 processed. Inertia: 398.37432861328125\n",
      "Batch 89 processed. Inertia: 354.7304382324219\n",
      "Batch 90 processed. Inertia: 407.6654968261719\n",
      "Batch 91 processed. Inertia: 381.0379943847656\n",
      "Batch 92 processed. Inertia: 349.2273254394531\n",
      "Batch 93 processed. Inertia: 376.5936279296875\n",
      "Batch 94 processed. Inertia: 351.7669677734375\n",
      "Batch 95 processed. Inertia: 378.43536376953125\n",
      "Batch 96 processed. Inertia: 363.3026123046875\n",
      "Batch 97 processed. Inertia: 415.9477233886719\n",
      "Batch 98 processed. Inertia: 378.2225036621094\n",
      "Batch 99 processed. Inertia: 354.5828857421875\n",
      "Batch 100 processed. Inertia: 366.20770263671875\n",
      "Batch 101 processed. Inertia: 373.7265319824219\n",
      "Batch 102 processed. Inertia: 352.5830993652344\n",
      "Batch 103 processed. Inertia: 396.7870178222656\n",
      "Batch 104 processed. Inertia: 357.63385009765625\n",
      "Batch 105 processed. Inertia: 382.0681457519531\n",
      "Batch 106 processed. Inertia: 355.69342041015625\n",
      "Batch 107 processed. Inertia: 359.9973449707031\n",
      "Batch 108 processed. Inertia: 358.60968017578125\n",
      "Batch 109 processed. Inertia: 387.0282897949219\n",
      "Batch 110 processed. Inertia: 404.3749084472656\n",
      "Batch 111 processed. Inertia: 369.20074462890625\n",
      "Batch 112 processed. Inertia: 387.6687927246094\n",
      "Batch 113 processed. Inertia: 366.8842468261719\n",
      "Batch 114 processed. Inertia: 344.4024353027344\n",
      "Batch 115 processed. Inertia: 384.9375915527344\n",
      "Batch 116 processed. Inertia: 386.06427001953125\n",
      "Batch 117 processed. Inertia: 363.5762939453125\n",
      "Batch 118 processed. Inertia: 368.9866027832031\n",
      "Batch 119 processed. Inertia: 379.8059997558594\n",
      "Batch 120 processed. Inertia: 414.670654296875\n",
      "Batch 121 processed. Inertia: 350.37896728515625\n",
      "Batch 122 processed. Inertia: 365.35467529296875\n",
      "Batch 123 processed. Inertia: 372.1690368652344\n",
      "Batch 124 processed. Inertia: 396.95062255859375\n",
      "Batch 125 processed. Inertia: 369.1772766113281\n",
      "Batch 126 processed. Inertia: 383.7220764160156\n",
      "Batch 127 processed. Inertia: 428.00579833984375\n",
      "Batch 128 processed. Inertia: 57.87168884277344\n",
      "Final inertia after training: 57.87168884277344\n",
      "Cluster model saved at: /hpc/srs/Python-data/all_data_2023/cluster_model/unet_all_data_2023_kmeans.pkl\n"
     ]
    }
   ],
   "source": [
    "cluster_model, convergence_history = m.train_kmeans(\n",
    "    latent_features_dataset,                # tf.data.Dataset containing batches of latent feature vectors.\n",
    "    batch_size=cluster_batch_size,          # Size of each batch for the KMeans model (controls memory usage and stability).\n",
    "    num_clusters=num_clusters,              # Desired number of clusters (centroids) to form in the data.\n",
    "    n_init=n_init,                          # Number of times the algorithm will run with different centroid seeds.\n",
    "    max_iter=max_iter,                      # Maximum iterations allowed for each mini-batch to refine centroids.\n",
    "    reassignment_ratio=reassignment_ratio   # Fraction of clusters reassigned per step; lower values stabilize updates.\n",
    ")\n",
    "\n",
    "# Save cluster model\n",
    "cluster_model_path = os.path.join(job_data_path,'cluster_model')\n",
    "m.save_cluster_model(cluster_model, cluster_model_path, model_name=cluster_model_name)"
   ]
  },
  {
   "cell_type": "markdown",
   "metadata": {},
   "source": [
    "<!-- # Process Predictions MTRX data -->"
   ]
  },
  {
   "cell_type": "code",
   "execution_count": 18,
   "metadata": {},
   "outputs": [
    {
     "name": "stdout",
     "output_type": "stream",
     "text": [
      "Deleted: /hpc/srs/Python-data/all_data_2023/jpg\n",
      "All specified folders have been successfully deleted.\n"
     ]
    }
   ],
   "source": [
    "dp.delete_data_folders(\n",
    "    job_data_path, \n",
    "    subdirectories='jpg',\n",
    "    override=True)"
   ]
  },
  {
   "cell_type": "code",
   "execution_count": 19,
   "metadata": {},
   "outputs": [
    {
     "name": "stdout",
     "output_type": "stream",
     "text": [
      "Found 7 files with extension 'Z_mtrx' in directory:\n",
      "/hpc/srs/Python-data/mtrx/predict\n",
      "There are 7 files to process\n",
      "iiiiiii\n",
      "********************\n",
      "Conversion complete.\n",
      "********************\n",
      "\n"
     ]
    }
   ],
   "source": [
    "# Prediction data\n",
    "mtrx_predict_file_list, _ = dp.list_files_by_extension(mtrx_predict_path,'Z_mtrx',verbose=False)\n",
    "\n",
    "data_scaling = 1.e9     # Scale the z-height of the data\n",
    "\n",
    "flatten_method = 'row_and_poly_xy_deg_2'\n",
    "flatten_method = 'row_mean'\n",
    "flatten_method = 'iterate_mask'\n",
    "flatten_method = 'poly_xy'\n",
    "\n",
    "dp.process_mtrx_files(\n",
    "    mtrx_predict_file_list,\n",
    "    job_data_path, # save data path\n",
    "    flatten_method = flatten_method, pixel_density = pixel_density, pixel_ratio = pixel_ratio,\n",
    "    data_scaling = data_scaling, window_size = window_size, window_pitch = predict_window_pitch,\n",
    "    save_windows = True,\n",
    "    save_jpg = True,\n",
    "    collate = False,\n",
    "    verbose = False\n",
    "    )"
   ]
  },
  {
   "cell_type": "markdown",
   "metadata": {},
   "source": [
    "<!-- # Make data predictions -->"
   ]
  },
  {
   "cell_type": "code",
   "execution_count": 20,
   "metadata": {},
   "outputs": [
    {
     "name": "stdout",
     "output_type": "stream",
     "text": [
      "Model loaded from: /hpc/srs/Python-data/all_data_2023/model/unet_all_data_2023.keras\n",
      "Cluster model loaded from: /hpc/srs/Python-data/all_data_2023/cluster_model/unet_all_data_2023_kmeans.pkl\n"
     ]
    }
   ],
   "source": [
    "# Load the trained autoencoder\n",
    "model_path = os.path.join(job_data_path,'model')\n",
    "autoencoder_model = m.load_model(model_path, model_name=model_name)\n",
    "\n",
    "# Load a previously saved cluster model from disk\n",
    "cluster_model_path = os.path.join(job_data_path,'cluster_model')\n",
    "cluster_model = m.load_cluster_model(cluster_model_path, model_name=cluster_model_name)"
   ]
  },
  {
   "cell_type": "code",
   "execution_count": 21,
   "metadata": {},
   "outputs": [],
   "source": [
    "# Get list of folders containing predict window data\n",
    "windows_predict_path = os.path.join(job_data_path, 'windows/predict')\n",
    "predict_data_files_list = dp. find_bottom_layer_folders(windows_predict_path)\n",
    "predict_data_files_list = predict_data_files_list[:predict_data_limit]"
   ]
  },
  {
   "cell_type": "code",
   "execution_count": 22,
   "metadata": {},
   "outputs": [
    {
     "name": "stdout",
     "output_type": "stream",
     "text": [
      "Not FU so skipping: /hpc/srs/Python-data/all_data_2023/windows/predict/default_2011Mar10-162902_STM-STM_Spectroscopy--1_3_BD\n",
      "Not FU so skipping: /hpc/srs/Python-data/all_data_2023/windows/predict/default_2011Mar10-162902_STM-STM_Spectroscopy--1_3_BU\n",
      "Not FU so skipping: /hpc/srs/Python-data/all_data_2023/windows/predict/default_2011Mar10-162902_STM-STM_Spectroscopy--1_3_FD\n",
      "Found 4624 files with extension '.npy' in directory:\n",
      "/hpc/srs/Python-data/all_data_2023/windows/predict/default_2011Mar10-162902_STM-STM_Spectroscopy--1_3_FU\n",
      "Not shuffling\n",
      "Data pipeline created with 4624 files, batch size: 4624\n",
      "Sample batch shape: (4624, 32, 32, 1)\n",
      ".Combined latent features shape: (4624, 4096)\n",
      "Directory created: /hpc/srs/Python-data/all_data_2023/predictions/2024-12-06_16-16-03\n",
      "Image saved to /hpc/srs/Python-data/all_data_2023/predictions/2024-12-06_16-16-03/default_2011Mar10-162902_STM-STM_Spectroscopy--1_3_FU.jpg with dpi=150\n",
      "Not FU so skipping: /hpc/srs/Python-data/all_data_2023/windows/predict/default_2011Mar17-102654_STM-STM_Spectroscopy--1_2_BU\n",
      "Found 18161 files with extension '.npy' in directory:\n",
      "/hpc/srs/Python-data/all_data_2023/windows/predict/default_2011Mar17-102654_STM-STM_Spectroscopy--1_2_FU\n",
      "Not shuffling\n",
      "Data pipeline created with 18161 files, batch size: 18161\n",
      "Sample batch shape: (18161, 32, 32, 1)\n",
      ".Combined latent features shape: (18161, 4096)\n",
      "Image saved to /hpc/srs/Python-data/all_data_2023/predictions/2024-12-06_16-16-03/default_2011Mar17-102654_STM-STM_Spectroscopy--1_2_FU.jpg with dpi=150\n",
      "Not FU so skipping: /hpc/srs/Python-data/all_data_2023/windows/predict/default_2011May27-164015_STM-STM_Spectroscopy--22_4_BD\n",
      "Not FU so skipping: /hpc/srs/Python-data/all_data_2023/windows/predict/default_2011May27-164015_STM-STM_Spectroscopy--22_4_BU\n",
      "Not FU so skipping: /hpc/srs/Python-data/all_data_2023/windows/predict/default_2011May27-164015_STM-STM_Spectroscopy--22_4_FD\n",
      "Found 4624 files with extension '.npy' in directory:\n",
      "/hpc/srs/Python-data/all_data_2023/windows/predict/default_2011May27-164015_STM-STM_Spectroscopy--22_4_FU\n",
      "Not shuffling\n",
      "Data pipeline created with 4624 files, batch size: 4624\n",
      "Sample batch shape: (4624, 32, 32, 1)\n",
      ".Combined latent features shape: (4624, 4096)\n",
      "Image saved to /hpc/srs/Python-data/all_data_2023/predictions/2024-12-06_16-16-03/default_2011May27-164015_STM-STM_Spectroscopy--22_4_FU.jpg with dpi=150\n",
      "Not FU so skipping: /hpc/srs/Python-data/all_data_2023/windows/predict/default_2014Aug06-115806_STM-STM_Spectroscopy--12_2_BD\n",
      "Not FU so skipping: /hpc/srs/Python-data/all_data_2023/windows/predict/default_2014Aug06-115806_STM-STM_Spectroscopy--12_2_BU\n",
      "Not FU so skipping: /hpc/srs/Python-data/all_data_2023/windows/predict/default_2014Aug06-115806_STM-STM_Spectroscopy--12_2_FD\n",
      "Found 20449 files with extension '.npy' in directory:\n",
      "/hpc/srs/Python-data/all_data_2023/windows/predict/default_2014Aug06-115806_STM-STM_Spectroscopy--12_2_FU\n",
      "Not shuffling\n",
      "Data pipeline created with 20449 files, batch size: 20449\n",
      "Sample batch shape: (20449, 32, 32, 1)\n",
      ".Combined latent features shape: (20449, 4096)\n",
      "Image saved to /hpc/srs/Python-data/all_data_2023/predictions/2024-12-06_16-16-03/default_2014Aug06-115806_STM-STM_Spectroscopy--12_2_FU.jpg with dpi=150\n",
      "Not FU so skipping: /hpc/srs/Python-data/all_data_2023/windows/predict/default_2022Jan12-130324_STM-STM_Spectroscopy--2_3_BD\n",
      "Not FU so skipping: /hpc/srs/Python-data/all_data_2023/windows/predict/default_2022Jan12-130324_STM-STM_Spectroscopy--2_3_BU\n",
      "Not FU so skipping: /hpc/srs/Python-data/all_data_2023/windows/predict/default_2022Jan12-130324_STM-STM_Spectroscopy--2_3_FD\n",
      "Found 32400 files with extension '.npy' in directory:\n",
      "/hpc/srs/Python-data/all_data_2023/windows/predict/default_2022Jan12-130324_STM-STM_Spectroscopy--2_3_FU\n",
      "Not shuffling\n",
      "Data pipeline created with 32400 files, batch size: 32400\n",
      "Sample batch shape: (32400, 32, 32, 1)\n",
      ".Combined latent features shape: (32400, 4096)\n",
      "Image saved to /hpc/srs/Python-data/all_data_2023/predictions/2024-12-06_16-16-03/default_2022Jan12-130324_STM-STM_Spectroscopy--2_3_FU.jpg with dpi=150\n",
      "Not FU so skipping: /hpc/srs/Python-data/all_data_2023/windows/predict/default_2024Aug07-153010_STM-STM_Spectroscopy--8_1_BD\n",
      "Not FU so skipping: /hpc/srs/Python-data/all_data_2023/windows/predict/default_2024Aug07-153010_STM-STM_Spectroscopy--8_1_BU\n",
      "Not FU so skipping: /hpc/srs/Python-data/all_data_2023/windows/predict/default_2024Aug07-153010_STM-STM_Spectroscopy--8_1_FD\n",
      "Found 32400 files with extension '.npy' in directory:\n",
      "/hpc/srs/Python-data/all_data_2023/windows/predict/default_2024Aug07-153010_STM-STM_Spectroscopy--8_1_FU\n",
      "Not shuffling\n",
      "Data pipeline created with 32400 files, batch size: 32400\n",
      "Sample batch shape: (32400, 32, 32, 1)\n",
      ".Combined latent features shape: (32400, 4096)\n",
      "Image saved to /hpc/srs/Python-data/all_data_2023/predictions/2024-12-06_16-16-03/default_2024Aug07-153010_STM-STM_Spectroscopy--8_1_FU.jpg with dpi=150\n",
      "Not FU so skipping: /hpc/srs/Python-data/all_data_2023/windows/predict/default_2024Aug07-153010_STM-STM_Spectroscopy--9_1_BD\n",
      "Not FU so skipping: /hpc/srs/Python-data/all_data_2023/windows/predict/default_2024Aug07-153010_STM-STM_Spectroscopy--9_1_BU\n",
      "Not FU so skipping: /hpc/srs/Python-data/all_data_2023/windows/predict/default_2024Aug07-153010_STM-STM_Spectroscopy--9_1_FD\n",
      "Found 32400 files with extension '.npy' in directory:\n",
      "/hpc/srs/Python-data/all_data_2023/windows/predict/default_2024Aug07-153010_STM-STM_Spectroscopy--9_1_FU\n",
      "Not shuffling\n",
      "Data pipeline created with 32400 files, batch size: 32400\n",
      "Sample batch shape: (32400, 32, 32, 1)\n",
      ".Combined latent features shape: (32400, 4096)\n",
      "Image saved to /hpc/srs/Python-data/all_data_2023/predictions/2024-12-06_16-16-03/default_2024Aug07-153010_STM-STM_Spectroscopy--9_1_FU.jpg with dpi=150\n"
     ]
    }
   ],
   "source": [
    "predictions_time_stamp = datetime.now().strftime('%Y-%m-%d_%H-%M-%S')\n",
    "\n",
    "for dir in predict_data_files_list:\n",
    "    #Limit viewing to FU images\n",
    "    if not dir.endswith(\"FU\"):\n",
    "        print('Not FU so skipping: {}'.format(dir))\n",
    "        continue  \n",
    "\n",
    "    # get list of the individual file names of the windows\n",
    "    window_list, num_windows = dp.list_files_by_extension(dir, extension=\".npy\", verbose=False)\n",
    "    # load the numpy windows\n",
    "    image_windows = dp.load_n_numpy_files(window_list,num_windows)\n",
    "    # load the coordinate files for the windows for window reconstruction\n",
    "    image_windows_coordinates = dp.load_coordinates_file(dir)\n",
    "    # Build the reconstruction of the original image\n",
    "    reconstructed_img = dp.reconstruct_image(image_windows,image_windows_coordinates,window_size)\n",
    "\n",
    "    # create a tf dataset from the numpy windows for making the latent features\n",
    "    predict_dataset = m.create_tf_dataset(window_list, batch_size=num_windows, buffer_size=num_windows, shuffle=False, is_autoencoder=False)\n",
    "    # make the latent features for each window using the autoencoder model \n",
    "    latent_predict_features, num_latent_predictions = m.extract_latent_features_to_disk_from_prebatched_windows(\n",
    "        autoencoder_model, \n",
    "        predict_dataset, \n",
    "        latent_features_path, \n",
    "        features_name='latent_features_train',\n",
    "        return_array=True,\n",
    "        verbose=False)\n",
    "    # make preductions \n",
    "    cluster_predictions = cluster_model.predict(latent_predict_features)\n",
    "    # Build the reconstruction of the predicted cluster label data\n",
    "    cluster_img = dp.reconstruct_cluster_image(image_windows_coordinates,window_size, cluster_predictions)\n",
    "    image_name = os.path.basename(dir)\n",
    "    # Path to save latent features to disk\n",
    "    predictions_path = os.path.join(job_data_path, 'predictions')\n",
    "    m.display_reconstructed_and_cluster_images(reconstructed_img,cluster_img,show_overlay=True,\n",
    "                                                save_to_disk=True,\n",
    "                                                predictions_time_stamp=predictions_time_stamp,\n",
    "                                                output_path=job_data_path,\n",
    "                                                image_name=image_name,\n",
    "                                                dpi=150)"
   ]
  },
  {
   "cell_type": "code",
   "execution_count": null,
   "metadata": {},
   "outputs": [],
   "source": []
  }
 ],
 "metadata": {
  "kernelspec": {
   "display_name": "Python 3 (ipykernel)",
   "language": "python",
   "name": "python3"
  },
  "language_info": {
   "codemirror_mode": {
    "name": "ipython",
    "version": 3
   },
   "file_extension": ".py",
   "mimetype": "text/x-python",
   "name": "python",
   "nbconvert_exporter": "python",
   "pygments_lexer": "ipython3",
   "version": "3.9.15"
  }
 },
 "nbformat": 4,
 "nbformat_minor": 2
}
