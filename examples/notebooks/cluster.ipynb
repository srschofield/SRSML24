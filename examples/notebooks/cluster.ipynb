{
 "cells": [
  {
   "cell_type": "markdown",
   "metadata": {},
   "source": [
    "# CNN autoencoder and Clustering from MTRX data\n",
    "\n",
    "Use this notebook to load Scienta Omicron Matrix format SPM data and create standardised images for machine learning training and analysis. The code can generate both JPG image data, useful for manually checking the data, and windowed numpy data that can be loaded into ML models. \n",
    "\n",
    "The notebook then creates an autoencoder for training on a large dataset, followed by KMEANS clustering. \n",
    "\n",
    "**Author**: Steven R. Schofield  \n",
    "**Created**: November, 2024"
   ]
  },
  {
   "cell_type": "code",
   "execution_count": 1,
   "metadata": {},
   "outputs": [
    {
     "name": "stdout",
     "output_type": "stream",
     "text": [
      "module_path = /Users/steven/academic-iCloud/Python/modules\n",
      "data_path = /Users/steven/Python-data\n"
     ]
    }
   ],
   "source": [
    "# Define path where to find the module. This allows for a different path depending on where the code is running (my mac or the cluster)\n",
    "import os\n",
    "\n",
    "module_path_list = [\n",
    "    '/Users/steven/academic-iCloud/Python/modules',\n",
    "    '/hpc/srs/Python/modules'\n",
    "] \n",
    "\n",
    "data_path_list = [\n",
    "    '/Users/steven/Python-data'\n",
    "]\n",
    "\n",
    "module_path = next((p for p in module_path_list if os.path.exists(p)), None)\n",
    "if not module_path:\n",
    "    exit(\"No valid module paths.\")\n",
    "else:\n",
    "    print('module_path = {}'.format(module_path))\n",
    "\n",
    "data_path = next((p for p in data_path_list if os.path.exists(p)), None)\n",
    "if not module_path:\n",
    "    exit(\"No valid data paths.\")\n",
    "else:\n",
    "    print('data_path = {}'.format(data_path))\n",
    "\n",
    "# adjust tensorflow output level\n",
    "os.environ['TF_CPP_MIN_LOG_LEVEL'] = '3' # 0 default all messages, 1 warnings and errors, 2, errors, 3 fatal errors only"
   ]
  },
  {
   "cell_type": "code",
   "execution_count": 2,
   "metadata": {},
   "outputs": [
    {
     "name": "stdout",
     "output_type": "stream",
     "text": [
      "\n",
      "Python version: 3.8.18 (default, Sep 11 2023, 08:17:16) \n",
      "[Clang 14.0.6 ]\n",
      "TensorFlow version: 2.13.0\n",
      "TensorFlow is built with CUDA: False\n",
      "TensorFlow is built with ROCm: False\n",
      "\n",
      "System: Darwin 24.1.0 (arm64)\n",
      "Platform: macOS-15.1.1-arm64-arm-64bit\n",
      "Processor: arm\n",
      "\n",
      "Number of GPUs available to TensorFlow: 1\n",
      "GPU Device: PhysicalDevice(name='/physical_device:GPU:0', device_type='GPU')\n",
      "\n",
      ">>> Running with GPU available <<<  (macOS-15.1.1-arm64-arm-64bit)\n",
      "\n",
      "Current time 2024-12-03 14:23:42\n"
     ]
    }
   ],
   "source": [
    "# # Ensure modules are reloaded \n",
    "%load_ext autoreload\n",
    "%autoreload 2\n",
    "\n",
    "# Import standard modules\n",
    "import os, sys\n",
    "import numpy as np\n",
    "\n",
    "import platform\n",
    "\n",
    "from datetime import datetime\n",
    "\n",
    "# Add custom module path to list\n",
    "sys.path.append(module_path)\n",
    "\n",
    "# Import custom module\n",
    "import SRSML24.data_prep as dp\n",
    "import SRSML24.model as m\n",
    "\n",
    "import tensorflow as tf\n",
    "#from tensorflow.keras.optimizers.legacy import Adam \n",
    "from tensorflow.keras.optimizers import Adam\n",
    "\n",
    "import matplotlib.pyplot as plt\n",
    "\n",
    "#import platform \n",
    "\n",
    "m.print_system_info()\n",
    "\n",
    "start_time = dp.current_datetime()"
   ]
  },
  {
   "cell_type": "code",
   "execution_count": 21,
   "metadata": {},
   "outputs": [],
   "source": [
    "# Parameters for windows creation\n",
    "job_name = 'all_data_2023'\n",
    "job_data_path = dp.create_new_data_path(data_path, job_name, include_date=False)\n",
    "mtrx_train_path = os.path.join(data_path, 'mtrx/train')\n",
    "mtrx_test_path = os.path.join(data_path, 'mtrx/test')\n",
    "mtrx_predict_path = os.path.join(data_path, 'mtrx/predict')\n",
    "flatten_method = 'poly_xy'\n",
    "pixel_density = 15.0    # Convert all images to a constant pixel density\n",
    "pixel_ratio = 0.7       # If an image has less than this % in the slow scan direction it is discarded\n",
    "data_scaling = 1.e9     # Scale the z-height of the data\n",
    "window_size = 32        # Window size for training/validation\n",
    "window_pitch = 32       # Window pitch for training/validation\n",
    "together = True        # Set this True to save image windows for a mtrx image as a single file rather than separate files.\n",
    "collate = False         # Set this True to remove all subfolder directories and save all data in root data path\n",
    "\n",
    "# Parameters for training\n",
    "model_name = 'unet_' + job_name\n",
    "batch_size = 128\n",
    "buffer_size = 12800 # shuffling\n",
    "learning_rate = 1e-4\n",
    "epochs = 5\n",
    "\n",
    "# Parameters for clustering\n",
    "cluster_model_name = model_name + '_kmeans'\n",
    "cluster_batch_size = 5120 # This is the number of latent features in a batch for clustering. \n",
    "                          # Does not have to be the same as for training and probably should \n",
    "                          # be larger. \n",
    "cluster_buffer_size = cluster_batch_size * 5    # shuffling buffer\n",
    "num_clusters=20                                # Desired number of clusters (centroids) to form in the data.\n",
    "n_init=50                                       # Number of times the algorithm will run with different centroid seeds.\n",
    "max_iter=1000                                   # Maximum iterations allowed for each mini-batch to refine centroids.\n",
    "reassignment_ratio=0.05                         # Fraction of clusters reassigned per step; lower values stabilize updates.\n",
    "\n",
    "\n",
    "# Parameters for PREDICTIONS\n",
    "predict_window_pitch = 4               # Window pitch for prediction\n",
    "\n",
    "\n",
    "# DATA LIMITS FOR TESTING THE CODE\n",
    "mtrx_train_data_limit = 500         # Number of MTRX files to process (training)\n",
    "mtrx_test_data_limit = 100         # Number of MTRX files to process (validation)\n",
    "\n",
    "train_data_limit = None #2000*batch_size\n",
    "predict_data_limit = None"
   ]
  },
  {
   "cell_type": "code",
   "execution_count": 4,
   "metadata": {},
   "outputs": [
    {
     "name": "stdout",
     "output_type": "stream",
     "text": [
      "Deleted: /Users/steven/Python-data/all_data_2023/windows\n",
      "All specified folders have been successfully deleted.\n"
     ]
    }
   ],
   "source": [
    "# REMOVE ALL DATA FOLDERS EXCEPT MTRX \n",
    "dp.delete_data_folders(job_data_path, override=True)"
   ]
  },
  {
   "cell_type": "code",
   "execution_count": 5,
   "metadata": {},
   "outputs": [
    {
     "name": "stdout",
     "output_type": "stream",
     "text": [
      "Found 65110 files with extension 'Z_mtrx' in directory:\n",
      "/Users/steven/Python-data/mtrx/train\n",
      "There are 500 files to process\n",
      "....t...t....t....................t.t............ttt.......t.......t.....ttt.t............tt..tttt. 100\n",
      "t........t......ttt..t..tt.ttt.........t..t....tt.t.tt..tt...tttttttttttttttttttttt.ttt.ttt.tt..ttt 200\n",
      "\btt..t..tttt...tt.tttt.t.t.tttttttt.t.tt.tt.t..t.tt..t.......t.t....ttt...........ttt........t...t... 300\n",
      "t....t.............t...............tt..................t........t......ttt.ttt...t....t..t.t....t.t 400\n",
      "........tttttttttttttt...tttttttttttt........t........ttttttt....tttt.tt.......ttttt.t............. 500\n",
      "\n",
      "********************\n",
      "Conversion complete.\n",
      "********************\n",
      "\n",
      "Found 2560 files with extension 'Z_mtrx' in directory:\n",
      "/Users/steven/Python-data/mtrx/test\n",
      "There are 100 files to process\n",
      "t....t..t.....tt..........................t..............t...t....t.t.....t....................t..t 100\n",
      "\n",
      "********************\n",
      "Conversion complete.\n",
      "********************\n",
      "\n"
     ]
    }
   ],
   "source": [
    "# Training data\n",
    "mtrx_train_file_list, _ = dp.list_files_by_extension(mtrx_train_path,'Z_mtrx',verbose=False)\n",
    "\n",
    "dp.process_mtrx_files(\n",
    "    mtrx_train_file_list[0:mtrx_train_data_limit],\n",
    "    job_data_path, # save data path\n",
    "    flatten_method = flatten_method, pixel_density = pixel_density, pixel_ratio = pixel_ratio,\n",
    "    data_scaling = data_scaling, window_size = window_size, window_pitch = window_pitch,\n",
    "    save_windows = True,\n",
    "    save_jpg = False,\n",
    "    together = together,\n",
    "    collate = collate,\n",
    "    verbose = False\n",
    "    )\n",
    "\n",
    "# Test data\n",
    "mtrx_test_file_list, _ = dp.list_files_by_extension(mtrx_test_path,'Z_mtrx',verbose=False)\n",
    "\n",
    "dp.process_mtrx_files(\n",
    "    mtrx_test_file_list[0:mtrx_test_data_limit],\n",
    "    job_data_path, # save data path\n",
    "    flatten_method = flatten_method, pixel_density = pixel_density, pixel_ratio = pixel_ratio,\n",
    "    data_scaling = data_scaling, window_size = window_size, window_pitch = window_pitch,\n",
    "    save_windows = True,\n",
    "    save_jpg = False,\n",
    "    together = together,\n",
    "    collate = collate,\n",
    "    verbose = False\n",
    "    )"
   ]
  },
  {
   "cell_type": "markdown",
   "metadata": {},
   "source": [
    "# Set up tensorflow data pipeline"
   ]
  },
  {
   "cell_type": "code",
   "execution_count": 6,
   "metadata": {},
   "outputs": [
    {
     "name": "stdout",
     "output_type": "stream",
     "text": [
      "Found 530 files with extension 'npy' in directory:\n",
      "/Users/steven/Python-data/all_data_2023/windows/train\n",
      "Data pipeline created with 530 files, batch size: 128, window size: 32\n",
      "Sample batch shape: (128, 32, 32, 1)\n",
      "\n"
     ]
    }
   ],
   "source": [
    "# Training data - tensorflow data pipeline for autoencoder\n",
    "windows_train_path = os.path.join(job_data_path, 'windows/train')\n",
    "train_files, num_train = dp.list_files_by_extension(windows_train_path, 'npy')\n",
    "train_files = train_files[:train_data_limit]\n",
    "# Create dataset with prefetching\n",
    "#train_dataset = m.create_tf_dataset(train_files, batch_size=batch_size, buffer_size=buffer_size, is_autoencoder=True, shuffle=True)\n",
    "train_dataset = m.create_tf_dataset_batched(\n",
    "    train_files, \n",
    "    batch_size=batch_size, \n",
    "    buffer_size=buffer_size, \n",
    "    window_size=window_size,\n",
    "    is_autoencoder=True, \n",
    "    shuffle=True)"
   ]
  },
  {
   "cell_type": "code",
   "execution_count": 7,
   "metadata": {},
   "outputs": [
    {
     "name": "stdout",
     "output_type": "stream",
     "text": [
      "Found 22 files with extension 'npy' in directory:\n",
      "/Users/steven/Python-data/all_data_2023/windows/test\n",
      "Data pipeline created with 22 files, batch size: 128, window size: 32\n",
      "Sample batch shape: (128, 32, 32, 1)\n",
      "\n"
     ]
    }
   ],
   "source": [
    "# Validation data - tensorflow data pipeline for autoencoder\n",
    "windows_test_path = os.path.join(job_data_path, 'windows/test')\n",
    "test_files, num_test = dp.list_files_by_extension(windows_test_path, 'npy')\n",
    "test_files = test_files[:train_data_limit]\n",
    "\n",
    "# Create dataset with prefetching\n",
    "test_dataset = m.create_tf_dataset_batched(\n",
    "    test_files, \n",
    "    batch_size=batch_size, \n",
    "    buffer_size=buffer_size, \n",
    "    window_size=window_size,\n",
    "    is_autoencoder=True, \n",
    "    shuffle=True)"
   ]
  },
  {
   "cell_type": "markdown",
   "metadata": {},
   "source": [
    "# Autoencoder build and train"
   ]
  },
  {
   "cell_type": "code",
   "execution_count": 8,
   "metadata": {},
   "outputs": [
    {
     "name": "stdout",
     "output_type": "stream",
     "text": [
      "Model: \"unet_all_data_2023\"\n",
      "__________________________________________________________________________________________________\n",
      " Layer (type)                Output Shape                 Param #   Connected to                  \n",
      "==================================================================================================\n",
      " Input_windows (InputLayer)  [(None, 32, 32, 1)]          0         []                            \n",
      "                                                                                                  \n",
      " Convolutional_1 (Conv2D)    (None, 32, 32, 32)           320       ['Input_windows[0][0]']       \n",
      "                                                                                                  \n",
      " Dropout_1 (Dropout)         (None, 32, 32, 32)           0         ['Convolutional_1[0][0]']     \n",
      "                                                                                                  \n",
      " MaxPooling_1 (MaxPooling2D  (None, 16, 16, 32)           0         ['Dropout_1[0][0]']           \n",
      " )                                                                                                \n",
      "                                                                                                  \n",
      " Convolutional_2 (Conv2D)    (None, 16, 16, 64)           18496     ['MaxPooling_1[0][0]']        \n",
      "                                                                                                  \n",
      " Dropout_2 (Dropout)         (None, 16, 16, 64)           0         ['Convolutional_2[0][0]']     \n",
      "                                                                                                  \n",
      " MaxPooling_2 (MaxPooling2D  (None, 8, 8, 64)             0         ['Dropout_2[0][0]']           \n",
      " )                                                                                                \n",
      "                                                                                                  \n",
      " Convolutional_3 (Conv2D)    (None, 8, 8, 128)            73856     ['MaxPooling_2[0][0]']        \n",
      "                                                                                                  \n",
      " Dropout_3 (Dropout)         (None, 8, 8, 128)            0         ['Convolutional_3[0][0]']     \n",
      "                                                                                                  \n",
      " MaxPooling_3 (MaxPooling2D  (None, 4, 4, 128)            0         ['Dropout_3[0][0]']           \n",
      " )                                                                                                \n",
      "                                                                                                  \n",
      " Bottleneck (Conv2D)         (None, 4, 4, 256)            295168    ['MaxPooling_3[0][0]']        \n",
      "                                                                                                  \n",
      " UpSampling_1 (UpSampling2D  (None, 8, 8, 256)            0         ['Bottleneck[0][0]']          \n",
      " )                                                                                                \n",
      "                                                                                                  \n",
      " UpConv_1 (Conv2D)           (None, 8, 8, 128)            295040    ['UpSampling_1[0][0]']        \n",
      "                                                                                                  \n",
      " Skip_Connection_1 (Concate  (None, 8, 8, 256)            0         ['UpConv_1[0][0]',            \n",
      " nate)                                                               'Convolutional_3[0][0]']     \n",
      "                                                                                                  \n",
      " Convolutional_4 (Conv2D)    (None, 8, 8, 128)            295040    ['Skip_Connection_1[0][0]']   \n",
      "                                                                                                  \n",
      " UpSampling_2 (UpSampling2D  (None, 16, 16, 128)          0         ['Convolutional_4[0][0]']     \n",
      " )                                                                                                \n",
      "                                                                                                  \n",
      " UpConv_2 (Conv2D)           (None, 16, 16, 64)           73792     ['UpSampling_2[0][0]']        \n",
      "                                                                                                  \n",
      " Skip_Connection_2 (Concate  (None, 16, 16, 128)          0         ['UpConv_2[0][0]',            \n",
      " nate)                                                               'Convolutional_2[0][0]']     \n",
      "                                                                                                  \n",
      " Convolutional_5 (Conv2D)    (None, 16, 16, 64)           73792     ['Skip_Connection_2[0][0]']   \n",
      "                                                                                                  \n",
      " UpSampling_3 (UpSampling2D  (None, 32, 32, 64)           0         ['Convolutional_5[0][0]']     \n",
      " )                                                                                                \n",
      "                                                                                                  \n",
      " UpConv_3 (Conv2D)           (None, 32, 32, 32)           18464     ['UpSampling_3[0][0]']        \n",
      "                                                                                                  \n",
      " Skip_Connection_3 (Concate  (None, 32, 32, 64)           0         ['UpConv_3[0][0]',            \n",
      " nate)                                                               'Convolutional_1[0][0]']     \n",
      "                                                                                                  \n",
      " Convolutional_6 (Conv2D)    (None, 32, 32, 32)           18464     ['Skip_Connection_3[0][0]']   \n",
      "                                                                                                  \n",
      " Output (Conv2D)             (None, 32, 32, 1)            33        ['Convolutional_6[0][0]']     \n",
      "                                                                                                  \n",
      "==================================================================================================\n",
      "Total params: 1162465 (4.43 MB)\n",
      "Trainable params: 1162465 (4.43 MB)\n",
      "Non-trainable params: 0 (0.00 Byte)\n",
      "__________________________________________________________________________________________________\n",
      "Running on Mac with Apple Silicon. Using legacy RMSprop optimizer.\n"
     ]
    }
   ],
   "source": [
    "# Build and compile the UNET model\n",
    "autoencoder_model = m.build_autoencoder(window_size=window_size,model_name=model_name)\n",
    "autoencoder_model.summary()\n",
    "\n",
    "# Check if running on Apple Silicon\n",
    "is_mac_silicon = platform.system() == \"Darwin\" and platform.processor() == \"arm\"\n",
    "\n",
    "if is_mac_silicon:\n",
    "    print(\"Running on Mac with Apple Silicon. Using legacy RMSprop optimizer.\")\n",
    "    autoencoder_model.compile(\n",
    "        optimizer=tf.keras.optimizers.legacy.RMSprop(learning_rate=learning_rate),\n",
    "        loss='mean_squared_error',\n",
    "        metrics=['mse', 'mae']\n",
    "    )\n",
    "else:\n",
    "    print(\"Not running on Mac with Apple Silicon. Using new RMSprop optimizer.\")\n",
    "    autoencoder_model.compile(\n",
    "        optimizer=tf.keras.optimizers.RMSprop(learning_rate=learning_rate),\n",
    "        loss='mean_squared_error',\n",
    "        metrics=['mse', 'mae']\n",
    "    )\n"
   ]
  },
  {
   "cell_type": "code",
   "execution_count": 9,
   "metadata": {},
   "outputs": [
    {
     "name": "stdout",
     "output_type": "stream",
     "text": [
      "Epoch 1/5\n",
      "858/858 [==============================] - 85s 98ms/step - loss: 0.0100 - mse: 0.0100 - mae: 0.0729 - val_loss: 0.0020 - val_mse: 0.0020 - val_mae: 0.0406\n",
      "Epoch 2/5\n",
      "858/858 [==============================] - 84s 98ms/step - loss: 0.0012 - mse: 0.0012 - mae: 0.0294 - val_loss: 1.7978e-04 - val_mse: 1.7978e-04 - val_mae: 0.0101\n",
      "Epoch 3/5\n",
      "858/858 [==============================] - 90s 105ms/step - loss: 5.7703e-04 - mse: 5.7703e-04 - mae: 0.0203 - val_loss: 1.1462e-04 - val_mse: 1.1462e-04 - val_mae: 0.0077\n",
      "Epoch 4/5\n",
      "858/858 [==============================] - 90s 104ms/step - loss: 3.4449e-04 - mse: 3.4449e-04 - mae: 0.0157 - val_loss: 9.7981e-05 - val_mse: 9.7981e-05 - val_mae: 0.0068\n",
      "Epoch 5/5\n",
      "858/858 [==============================] - 90s 104ms/step - loss: 2.2645e-04 - mse: 2.2645e-04 - mae: 0.0127 - val_loss: 1.7256e-04 - val_mse: 1.7256e-04 - val_mae: 0.0107\n",
      "Model saved at: /Users/steven/Python-data/all_data_2023/model/unet_all_data_2023.keras\n",
      "Current time 2024-12-03 14:33:07\n",
      "Elapsed time: 0 hours, 9 minutes, 25 seconds.\n"
     ]
    }
   ],
   "source": [
    "# Train the model using the tf.data datasets\n",
    "history = autoencoder_model.fit(\n",
    "    train_dataset,\n",
    "    validation_data=test_dataset,\n",
    "    epochs=epochs,\n",
    "    shuffle=True,\n",
    "    verbose=1\n",
    ")\n",
    "\n",
    "# Save the model as soon as training completes\n",
    "model_path = os.path.join(job_data_path,'model')\n",
    "m.save_model(autoencoder_model, model_path, model_name=model_name)\n",
    "\n",
    "end_time = dp.current_datetime()\n",
    "dp.elapsed_time(start_time,end_time)"
   ]
  },
  {
   "cell_type": "code",
   "execution_count": 10,
   "metadata": {},
   "outputs": [
    {
     "name": "stdout",
     "output_type": "stream",
     "text": [
      "Plot saved to /Users/steven/Python-data/all_data_2023/model/history.jpg\n"
     ]
    },
    {
     "data": {
      "image/png": "[encoded data removed]",
      "text/plain": [
       "<Figure size 1200x500 with 2 Axes>"
      ]
     },
     "metadata": {},
     "output_type": "display_data"
    }
   ],
   "source": [
    "# Plot training history\n",
    "m.plot_training_history(history, \n",
    "                        loss_name='loss', \n",
    "                        val_loss_name='val_loss', \n",
    "                        metric_names=['mse', 'mae'], \n",
    "                        save_to_disk=True,\n",
    "                        val_metric_names=['val_mse', 'val_mae'],\n",
    "                        output_path=model_path,\n",
    "                        dpi=150)"
   ]
  },
  {
   "cell_type": "markdown",
   "metadata": {},
   "source": [
    "# Extract latent features using autoencoder model\n",
    "Will save the latent features also to disk so this step needs to run only once for a given set of parameters"
   ]
  },
  {
   "cell_type": "code",
   "execution_count": 11,
   "metadata": {},
   "outputs": [
    {
     "name": "stdout",
     "output_type": "stream",
     "text": [
      "Deleted: /Users/steven/Python-data/all_data_2023/latent_features\n",
      "All specified folders have been successfully deleted.\n"
     ]
    }
   ],
   "source": [
    "dp.delete_data_folders(\n",
    "    job_data_path, \n",
    "    subdirectories='latent_features',\n",
    "    override=True)"
   ]
  },
  {
   "cell_type": "code",
   "execution_count": 12,
   "metadata": {},
   "outputs": [
    {
     "name": "stdout",
     "output_type": "stream",
     "text": [
      "Found 530 files with extension 'npy' in directory:\n",
      "/Users/steven/Python-data/all_data_2023/windows/train\n",
      "Data pipeline created with 530 files, batch size: 5120, window size: 32\n",
      "Sample batch shape: (5120, 32, 32, 1)\n",
      "\n"
     ]
    }
   ],
   "source": [
    "# Training data - tensorflow data pipeline \n",
    "windows_train_path = os.path.join(job_data_path, 'windows/train')\n",
    "train_files, num_train = dp.list_files_by_extension(windows_train_path, 'npy')\n",
    "train_files = train_files[:train_data_limit]\n",
    "\n",
    "train_dataset = m.create_tf_dataset_batched(\n",
    "    train_files, \n",
    "    batch_size=cluster_batch_size, \n",
    "    buffer_size=cluster_buffer_size, \n",
    "    window_size=window_size,\n",
    "    is_autoencoder=True, \n",
    "    shuffle=True)"
   ]
  },
  {
   "cell_type": "code",
   "execution_count": 13,
   "metadata": {},
   "outputs": [
    {
     "name": "stdout",
     "output_type": "stream",
     "text": [
      "Model loaded from: /Users/steven/Python-data/all_data_2023/model/unet_all_data_2023.keras\n"
     ]
    }
   ],
   "source": [
    "# Load the trained autoencoder model\n",
    "model_path = os.path.join(job_data_path,'model')\n",
    "autoencoder_model = m.load_model(model_path, model_name=model_name)"
   ]
  },
  {
   "cell_type": "code",
   "execution_count": 14,
   "metadata": {},
   "outputs": [
    {
     "name": "stdout",
     "output_type": "stream",
     "text": [
      "......................\n",
      "All latent features have been saved to /Users/steven/Python-data/all_data_2023/latent_features.\n",
      "Sample batch shape: (5120, 4096)\n"
     ]
    }
   ],
   "source": [
    "# Path to save latent features to disk\n",
    "latent_features_path = os.path.join(job_data_path, 'latent_features')\n",
    "\n",
    "m.extract_latent_features_to_disk_from_prebatched_windows(\n",
    "    autoencoder_model, \n",
    "    train_dataset, \n",
    "    latent_features_path, \n",
    "    features_name='latent_features_train',\n",
    "    return_array=False,\n",
    "    verbose=False)"
   ]
  },
  {
   "cell_type": "markdown",
   "metadata": {},
   "source": [
    "# Create tensorflow dataset pipeline for latent features"
   ]
  },
  {
   "cell_type": "code",
   "execution_count": 15,
   "metadata": {},
   "outputs": [
    {
     "name": "stdout",
     "output_type": "stream",
     "text": [
      "Found 22 files with extension 'npy' in directory:\n",
      "/Users/steven/Python-data/all_data_2023/latent_features\n"
     ]
    }
   ],
   "source": [
    "# List and sort latent feature files\n",
    "latent_features_path = os.path.join(job_data_path, 'latent_features')\n",
    "latent_features_files, num_latent_files = dp.list_files_by_extension(latent_features_path, 'npy')"
   ]
  },
  {
   "cell_type": "code",
   "execution_count": 16,
   "metadata": {},
   "outputs": [
    {
     "name": "stdout",
     "output_type": "stream",
     "text": [
      "Data pipeline created with 22 files, batch size: 5120\n",
      "Shuffling enabled with buffer size: 25600\n",
      "Batch shape: (5120, 4096)\n"
     ]
    }
   ],
   "source": [
    "# Load the latent features from disk into a tensor dataset pipeline\n",
    "latent_features_dataset = m.create_latent_features_tf_dataset(\n",
    "    latent_features_files,\n",
    "    batch_size=cluster_batch_size,\n",
    "    shuffle=True, \n",
    "    shuffle_buffer_size=cluster_buffer_size)"
   ]
  },
  {
   "cell_type": "markdown",
   "metadata": {},
   "source": [
    "# Train KMEANS cluster model"
   ]
  },
  {
   "cell_type": "code",
   "execution_count": 22,
   "metadata": {},
   "outputs": [
    {
     "name": "stderr",
     "output_type": "stream",
     "text": [
      "/opt/anaconda3/envs/tf/lib/python3.8/site-packages/sklearn/cluster/_kmeans.py:1930: RuntimeWarning: Explicit initial center position passed: performing only one init in MiniBatchKMeans instead of n_init=50.\n",
      "  super()._check_params_vs_input(X, default_n_init=3)\n"
     ]
    },
    {
     "name": "stdout",
     "output_type": "stream",
     "text": [
      "Batch 1 processed. Inertia: 3101.53515625\n",
      "Batch 2 processed. Inertia: 3150.826171875\n",
      "Batch 3 processed. Inertia: 3182.129638671875\n",
      "Batch 4 processed. Inertia: 3068.46435546875\n",
      "Batch 5 processed. Inertia: 3190.25244140625\n",
      "Batch 6 processed. Inertia: 3165.68017578125\n",
      "Batch 7 processed. Inertia: 3182.36083984375\n",
      "Batch 8 processed. Inertia: 3055.890869140625\n",
      "Batch 9 processed. Inertia: 3057.045654296875\n",
      "Batch 10 processed. Inertia: 3071.1494140625\n",
      "Batch 11 processed. Inertia: 3166.72607421875\n",
      "Batch 12 processed. Inertia: 3059.41162109375\n",
      "Batch 13 processed. Inertia: 3080.91162109375\n",
      "Batch 14 processed. Inertia: 3112.72119140625\n",
      "Batch 15 processed. Inertia: 3072.51953125\n",
      "Batch 16 processed. Inertia: 3094.599609375\n",
      "Batch 17 processed. Inertia: 3080.50830078125\n",
      "Batch 18 processed. Inertia: 3124.569580078125\n",
      "Batch 19 processed. Inertia: 3105.582763671875\n",
      "Batch 20 processed. Inertia: 3026.948974609375\n",
      "Batch 21 processed. Inertia: 3121.87353515625\n",
      "Batch 22 processed. Inertia: 1320.10546875\n",
      "Final inertia after training: 1320.10546875\n",
      "Cluster model saved at: /Users/steven/Python-data/all_data_2023/cluster_model/unet_all_data_2023_kmeans.pkl\n"
     ]
    }
   ],
   "source": [
    "cluster_model, convergence_history = m.train_kmeans(\n",
    "    latent_features_dataset,                # tf.data.Dataset containing batches of latent feature vectors.\n",
    "    batch_size=cluster_batch_size,          # Size of each batch for the KMeans model (controls memory usage and stability).\n",
    "    num_clusters=num_clusters,              # Desired number of clusters (centroids) to form in the data.\n",
    "    n_init=n_init,                          # Number of times the algorithm will run with different centroid seeds.\n",
    "    max_iter=max_iter,                      # Maximum iterations allowed for each mini-batch to refine centroids.\n",
    "    reassignment_ratio=reassignment_ratio   # Fraction of clusters reassigned per step; lower values stabilize updates.\n",
    ")\n",
    "\n",
    "# Save cluster model\n",
    "cluster_model_path = os.path.join(job_data_path,'cluster_model')\n",
    "m.save_cluster_model(cluster_model, cluster_model_path, model_name=cluster_model_name)"
   ]
  },
  {
   "cell_type": "markdown",
   "metadata": {},
   "source": [
    "# Process Predictions MTRX data"
   ]
  },
  {
   "cell_type": "code",
   "execution_count": 23,
   "metadata": {},
   "outputs": [
    {
     "name": "stdout",
     "output_type": "stream",
     "text": [
      "No target folders found to delete.\n"
     ]
    }
   ],
   "source": [
    "dp.delete_data_folders(\n",
    "    job_data_path, \n",
    "    subdirectories='jpg',\n",
    "    override=True)"
   ]
  },
  {
   "cell_type": "code",
   "execution_count": 24,
   "metadata": {},
   "outputs": [
    {
     "name": "stdout",
     "output_type": "stream",
     "text": [
      "Found 7 files with extension 'Z_mtrx' in directory:\n",
      "/Users/steven/Python-data/mtrx/predict\n",
      "There are 7 files to process\n",
      "iiiiiii\n",
      "********************\n",
      "Conversion complete.\n",
      "********************\n",
      "\n"
     ]
    }
   ],
   "source": [
    "# Prediction data\n",
    "mtrx_predict_file_list, _ = dp.list_files_by_extension(mtrx_predict_path,'Z_mtrx',verbose=False)\n",
    "\n",
    "data_scaling = 1.e9     # Scale the z-height of the data\n",
    "\n",
    "flatten_method = 'row_and_poly_xy_deg_2'\n",
    "flatten_method = 'row_mean'\n",
    "flatten_method = 'iterate_mask'\n",
    "flatten_method = 'poly_xy'\n",
    "\n",
    "dp.process_mtrx_files(\n",
    "    mtrx_predict_file_list,\n",
    "    job_data_path, # save data path\n",
    "    flatten_method = flatten_method, pixel_density = pixel_density, pixel_ratio = pixel_ratio,\n",
    "    data_scaling = data_scaling, window_size = window_size, window_pitch = predict_window_pitch,\n",
    "    save_windows = True,\n",
    "    save_jpg = True,\n",
    "    collate = False,\n",
    "    verbose = False\n",
    "    )"
   ]
  },
  {
   "cell_type": "markdown",
   "metadata": {},
   "source": [
    "# Make data predictions"
   ]
  },
  {
   "cell_type": "code",
   "execution_count": 25,
   "metadata": {},
   "outputs": [
    {
     "name": "stdout",
     "output_type": "stream",
     "text": [
      "Model loaded from: /Users/steven/Python-data/all_data_2023/model/unet_all_data_2023.keras\n",
      "Cluster model loaded from: /Users/steven/Python-data/all_data_2023/cluster_model/unet_all_data_2023_kmeans.pkl\n"
     ]
    }
   ],
   "source": [
    "# Load the trained autoencoder\n",
    "model_path = os.path.join(job_data_path,'model')\n",
    "autoencoder_model = m.load_model(model_path, model_name=model_name)\n",
    "\n",
    "# Load a previously saved cluster model from disk\n",
    "cluster_model_path = os.path.join(job_data_path,'cluster_model')\n",
    "cluster_model = m.load_cluster_model(cluster_model_path, model_name=cluster_model_name)"
   ]
  },
  {
   "cell_type": "code",
   "execution_count": 26,
   "metadata": {},
   "outputs": [],
   "source": [
    "# Get list of folders containing predict window data\n",
    "windows_predict_path = os.path.join(job_data_path, 'windows/predict')\n",
    "predict_data_files_list = dp. find_bottom_layer_folders(windows_predict_path)\n",
    "predict_data_files_list = predict_data_files_list[:predict_data_limit]"
   ]
  },
  {
   "cell_type": "code",
   "execution_count": 27,
   "metadata": {},
   "outputs": [
    {
     "name": "stdout",
     "output_type": "stream",
     "text": [
      "Not FU so skipping: /Users/steven/Python-data/all_data_2023/windows/predict/predict_mix/default_2011Mar10-162902_STM-STM_Spectroscopy--1_3_BD\n",
      "Not FU so skipping: /Users/steven/Python-data/all_data_2023/windows/predict/predict_mix/default_2011Mar10-162902_STM-STM_Spectroscopy--1_3_BU\n",
      "Not FU so skipping: /Users/steven/Python-data/all_data_2023/windows/predict/predict_mix/default_2011Mar10-162902_STM-STM_Spectroscopy--1_3_FD\n",
      "Found 4624 files with extension '.npy' in directory:\n",
      "/Users/steven/Python-data/all_data_2023/windows/predict/predict_mix/default_2011Mar10-162902_STM-STM_Spectroscopy--1_3_FU\n",
      "Not shuffling\n",
      "Data pipeline created with 4624 files, batch size: 4624\n",
      "Sample batch shape: (4624, 32, 32, 1)\n",
      ".Combined latent features shape: (4624, 4096)\n",
      "Directory created: /Users/steven/Python-data/all_data_2023/predictions/2024-12-03_14-50-15\n",
      "Image saved to /Users/steven/Python-data/all_data_2023/predictions/2024-12-03_14-50-15/default_2011Mar10-162902_STM-STM_Spectroscopy--1_3_FU.jpg with dpi=150\n",
      "Not FU so skipping: /Users/steven/Python-data/all_data_2023/windows/predict/predict_mix/default_2011Mar17-102654_STM-STM_Spectroscopy--1_2_BU\n",
      "Found 18161 files with extension '.npy' in directory:\n",
      "/Users/steven/Python-data/all_data_2023/windows/predict/predict_mix/default_2011Mar17-102654_STM-STM_Spectroscopy--1_2_FU\n",
      "Not shuffling\n",
      "Data pipeline created with 18161 files, batch size: 18161\n",
      "Sample batch shape: (18161, 32, 32, 1)\n",
      ".Combined latent features shape: (18161, 4096)\n",
      "Image saved to /Users/steven/Python-data/all_data_2023/predictions/2024-12-03_14-50-15/default_2011Mar17-102654_STM-STM_Spectroscopy--1_2_FU.jpg with dpi=150\n",
      "Not FU so skipping: /Users/steven/Python-data/all_data_2023/windows/predict/predict_mix/default_2011May27-164015_STM-STM_Spectroscopy--22_4_BD\n",
      "Not FU so skipping: /Users/steven/Python-data/all_data_2023/windows/predict/predict_mix/default_2011May27-164015_STM-STM_Spectroscopy--22_4_BU\n",
      "Not FU so skipping: /Users/steven/Python-data/all_data_2023/windows/predict/predict_mix/default_2011May27-164015_STM-STM_Spectroscopy--22_4_FD\n",
      "Found 4624 files with extension '.npy' in directory:\n",
      "/Users/steven/Python-data/all_data_2023/windows/predict/predict_mix/default_2011May27-164015_STM-STM_Spectroscopy--22_4_FU\n",
      "Not shuffling\n",
      "Data pipeline created with 4624 files, batch size: 4624\n",
      "Sample batch shape: (4624, 32, 32, 1)\n",
      ".Combined latent features shape: (4624, 4096)\n",
      "Image saved to /Users/steven/Python-data/all_data_2023/predictions/2024-12-03_14-50-15/default_2011May27-164015_STM-STM_Spectroscopy--22_4_FU.jpg with dpi=150\n",
      "Not FU so skipping: /Users/steven/Python-data/all_data_2023/windows/predict/predict_mix/default_2014Aug06-115806_STM-STM_Spectroscopy--12_2_BD\n",
      "Not FU so skipping: /Users/steven/Python-data/all_data_2023/windows/predict/predict_mix/default_2014Aug06-115806_STM-STM_Spectroscopy--12_2_BU\n",
      "Not FU so skipping: /Users/steven/Python-data/all_data_2023/windows/predict/predict_mix/default_2014Aug06-115806_STM-STM_Spectroscopy--12_2_FD\n",
      "Found 20449 files with extension '.npy' in directory:\n",
      "/Users/steven/Python-data/all_data_2023/windows/predict/predict_mix/default_2014Aug06-115806_STM-STM_Spectroscopy--12_2_FU\n",
      "Not shuffling\n",
      "Data pipeline created with 20449 files, batch size: 20449\n",
      "Sample batch shape: (20449, 32, 32, 1)\n",
      ".Combined latent features shape: (20449, 4096)\n",
      "Image saved to /Users/steven/Python-data/all_data_2023/predictions/2024-12-03_14-50-15/default_2014Aug06-115806_STM-STM_Spectroscopy--12_2_FU.jpg with dpi=150\n",
      "Not FU so skipping: /Users/steven/Python-data/all_data_2023/windows/predict/predict_mix/default_2022Jan12-130324_STM-STM_Spectroscopy--2_3_BD\n",
      "Not FU so skipping: /Users/steven/Python-data/all_data_2023/windows/predict/predict_mix/default_2022Jan12-130324_STM-STM_Spectroscopy--2_3_BU\n",
      "Not FU so skipping: /Users/steven/Python-data/all_data_2023/windows/predict/predict_mix/default_2022Jan12-130324_STM-STM_Spectroscopy--2_3_FD\n",
      "Found 32400 files with extension '.npy' in directory:\n",
      "/Users/steven/Python-data/all_data_2023/windows/predict/predict_mix/default_2022Jan12-130324_STM-STM_Spectroscopy--2_3_FU\n",
      "Not shuffling\n",
      "Data pipeline created with 32400 files, batch size: 32400\n",
      "Sample batch shape: (32400, 32, 32, 1)\n",
      ".Combined latent features shape: (32400, 4096)\n",
      "Image saved to /Users/steven/Python-data/all_data_2023/predictions/2024-12-03_14-50-15/default_2022Jan12-130324_STM-STM_Spectroscopy--2_3_FU.jpg with dpi=150\n",
      "Not FU so skipping: /Users/steven/Python-data/all_data_2023/windows/predict/predict_mix/default_2024Aug07-153010_STM-STM_Spectroscopy--8_1_BD\n",
      "Not FU so skipping: /Users/steven/Python-data/all_data_2023/windows/predict/predict_mix/default_2024Aug07-153010_STM-STM_Spectroscopy--8_1_BU\n",
      "Not FU so skipping: /Users/steven/Python-data/all_data_2023/windows/predict/predict_mix/default_2024Aug07-153010_STM-STM_Spectroscopy--8_1_FD\n",
      "Found 32400 files with extension '.npy' in directory:\n",
      "/Users/steven/Python-data/all_data_2023/windows/predict/predict_mix/default_2024Aug07-153010_STM-STM_Spectroscopy--8_1_FU\n",
      "Not shuffling\n",
      "Data pipeline created with 32400 files, batch size: 32400\n",
      "Sample batch shape: (32400, 32, 32, 1)\n",
      ".Combined latent features shape: (32400, 4096)\n",
      "Image saved to /Users/steven/Python-data/all_data_2023/predictions/2024-12-03_14-50-15/default_2024Aug07-153010_STM-STM_Spectroscopy--8_1_FU.jpg with dpi=150\n",
      "Not FU so skipping: /Users/steven/Python-data/all_data_2023/windows/predict/predict_mix/default_2024Aug07-153010_STM-STM_Spectroscopy--9_1_BD\n",
      "Not FU so skipping: /Users/steven/Python-data/all_data_2023/windows/predict/predict_mix/default_2024Aug07-153010_STM-STM_Spectroscopy--9_1_BU\n",
      "Not FU so skipping: /Users/steven/Python-data/all_data_2023/windows/predict/predict_mix/default_2024Aug07-153010_STM-STM_Spectroscopy--9_1_FD\n",
      "Found 32400 files with extension '.npy' in directory:\n",
      "/Users/steven/Python-data/all_data_2023/windows/predict/predict_mix/default_2024Aug07-153010_STM-STM_Spectroscopy--9_1_FU\n",
      "Not shuffling\n",
      "Data pipeline created with 32400 files, batch size: 32400\n",
      "Sample batch shape: (32400, 32, 32, 1)\n",
      ".Combined latent features shape: (32400, 4096)\n",
      "Image saved to /Users/steven/Python-data/all_data_2023/predictions/2024-12-03_14-50-15/default_2024Aug07-153010_STM-STM_Spectroscopy--9_1_FU.jpg with dpi=150\n"
     ]
    }
   ],
   "source": [
    "predictions_time_stamp = datetime.now().strftime('%Y-%m-%d_%H-%M-%S')\n",
    "\n",
    "for dir in predict_data_files_list:\n",
    "    #Limit viewing to FU images\n",
    "    if not dir.endswith(\"FU\"):\n",
    "        print('Not FU so skipping: {}'.format(dir))\n",
    "        continue  \n",
    "\n",
    "    # get list of the individual file names of the windows\n",
    "    window_list, num_windows = dp.list_files_by_extension(dir, extension=\".npy\", verbose=False)\n",
    "    # load the numpy windows\n",
    "    image_windows = dp.load_n_numpy_files(window_list,num_windows)\n",
    "    # load the coordinate files for the windows for window reconstruction\n",
    "    image_windows_coordinates = dp.load_coordinates_file(dir)\n",
    "    # Build the reconstruction of the original image\n",
    "    reconstructed_img = dp.reconstruct_image(image_windows,image_windows_coordinates,window_size)\n",
    "\n",
    "    # create a tf dataset from the numpy windows for making the latent features\n",
    "    predict_dataset = m.create_tf_dataset(window_list, batch_size=num_windows, buffer_size=num_windows, shuffle=False, is_autoencoder=False)\n",
    "    # make the latent features for each window using the autoencoder model \n",
    "    latent_predict_features, num_latent_predictions = m.extract_latent_features_to_disk_from_prebatched_windows(\n",
    "        autoencoder_model, \n",
    "        predict_dataset, \n",
    "        latent_features_path, \n",
    "        features_name='latent_features_train',\n",
    "        return_array=True,\n",
    "        verbose=False)\n",
    "    # make preductions \n",
    "    cluster_predictions = cluster_model.predict(latent_predict_features)\n",
    "    # Build the reconstruction of the predicted cluster label data\n",
    "    cluster_img = dp.reconstruct_cluster_image(image_windows_coordinates,window_size, cluster_predictions)\n",
    "    image_name = os.path.basename(dir)\n",
    "    # Path to save latent features to disk\n",
    "    predictions_path = os.path.join(job_data_path, 'predictions')\n",
    "    m.display_reconstructed_and_cluster_images(reconstructed_img,cluster_img,show_overlay=True,\n",
    "                                                save_to_disk=True,\n",
    "                                                predictions_time_stamp=predictions_time_stamp,\n",
    "                                                output_path=job_data_path,\n",
    "                                                image_name=image_name,\n",
    "                                                dpi=150)"
   ]
  },
  {
   "cell_type": "code",
   "execution_count": null,
   "metadata": {},
   "outputs": [],
   "source": []
  }
 ],
 "metadata": {
  "kernelspec": {
   "display_name": "tf",
   "language": "python",
   "name": "python3"
  },
  "language_info": {
   "codemirror_mode": {
    "name": "ipython",
    "version": 3
   },
   "file_extension": ".py",
   "mimetype": "text/x-python",
   "name": "python",
   "nbconvert_exporter": "python",
   "pygments_lexer": "ipython3",
   "version": "3.8.18"
  }
 },
 "nbformat": 4,
 "nbformat_minor": 2
}
